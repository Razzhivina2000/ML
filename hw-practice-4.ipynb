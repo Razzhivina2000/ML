{
 "cells": [
  {
   "cell_type": "raw",
   "metadata": {},
   "source": [
    "# Машинное обучение, ВМК МГУ\n",
    "\n",
    "## Практическое задание 4. Разложение ошибки на смещение и разброс. Градиентный бустинг ~~своими руками~~\n",
    "\n",
    "### Общая информация\n",
    "\n",
    "Дата выдачи: 02.12.2022\n",
    "\n",
    "Мягкий дедлайн: 3:00MSK 16.12.2022\n",
    "\n",
    "Жесткий дедлайн: 23:59MSK 23.12.2022\n",
    "\n",
    "### Оценивание и штрафы\n",
    "Каждая из задач имеет определенную «стоимость» (указана в скобках около задачи). Максимально допустимая оценка за работу — **10 баллов + 1.5 бонусов**. Проверяющий имеет право снизить оценку за неэффективную реализацию или неопрятные графики.\n",
    "\n",
    "**Обратите внимание**, что в каждом разделе домашнего задания есть оцениваниемые задачи и есть вопросы. Вопросы дополняют задачи и направлены на то, чтобы проинтерпретировать или обосновать происходящее. Код без интерпретации не имеет смысла, поэтому отвечать на вопросы обязательно — за отсутствие ответов мы будем снижать баллы за задачи. Если вы ответите на вопросы, но не напишете корректный код к соответствующим оцениваемым задачам, то баллы за такое выставлены не будут.\n",
    "\n",
    "Сдавать задание после указанного срока сдачи нельзя. При выставлении неполного балла за задание в связи с наличием ошибок на усмотрение проверяющего предусмотрена возможность исправить работу на указанных в ответном письме условиях.\n",
    "\n",
    "Задание выполняется самостоятельно. «Похожие» решения считаются плагиатом и все задействованные студенты (в том числе те, у кого списали) не могут получить за него больше 0 баллов (подробнее о плагиате см. на странице курса). Если вы нашли решение какого-то из заданий (или его часть) в открытом источнике, необходимо указать ссылку на этот источник в отдельном блоке в конце вашей работы (скорее всего вы будете не единственным, кто это нашел, поэтому чтобы исключить подозрение в плагиате, необходима ссылка на источник).\n",
    "\n",
    "Неэффективная реализация кода может негативно отразиться на оценке.\n",
    "\n",
    "<p style=\"color:#de3815;font-size:25px;\">\n",
    "Напоминание об оформлении и выполнении ноутбука\n",
    "</p>\n",
    "\n",
    "* Все строчки должны быть выполнены. Нужно, чтобы output команды можно было увидеть, не запуская ячейки (кроме редких случаев, когда необходимо намеренно скрыть ненужный output, про такие случаи желательно писать пояснения в тексте). **В противном случае -1 балл**\n",
    "* При оформлении ДЗ нужно пользоваться данным файлом в качестве шаблона. **Не нужно** удалять и видоизменять написанный код и текст, если явно не указана такая возможность. Создавать новые ячейки с кодом/текстов там, где это осмысленно и вы считаете необходимым, конечно, можно. **В противном случае -1 балл**\n",
    "* В anytask обязательно нужно прикреплять отдельно файл с расширением ipynb (не в архиве, а именно отдельно). Если необходимо отправить еще какие-то файлы, то вынесите их в отдельный архив (если файлов много) и пришлите. **В противном случае -0.5 балла**\n",
    "---\n",
    "* Пишите, пожалуйста, выводы и ответы на вопросы в текстовых ячейках/при помощи print в коде/как результат вывода ячейки. При их отсутствии мы не можем понять, сделали ли вы задание и понимаете, что происходит, и **поэтому будем снижать баллы**\n",
    "* Если алгоритм не сказано реализовывать явно, его всегда можно импортировать из библиотеки.\n",
    "---\n",
    "* Про графики. _Штрафы будут применяться к каждому результату команды отображения графика (plt.show() и др. аналогичные). Исключением являются графики, генерируемые функциями каких-либо сторонних библиотек, если их нельзя кастомизировать_\n",
    "\n",
    "    * должно быть название (plt.title) графика; **В противном случае &ndash; -0.05 балла**\n",
    "    * на графиках должны быть подписаны оси (plt.xlabel, plt.ylabel); **В противном случае &ndash; -0.025 балла за каждую ось**\n",
    "    * должны быть подписаны единицы измерения (если это возможно); **В противном случае &ndash; -0.025 балла за каждую ось**\n",
    "    * все названия должны быть понятны любому человеку, знакомому с терминологией, без заглядывания в код; **В противном случае &ndash; -0.05 балла**\n",
    "    * подписи тиков на осях не должны сливаться как на одной оси, так и между ними; **В противном случае &ndash; -0.025 балла за каждую ось**\n",
    "    * если изображено несколько сущностей на одном холсте (например несколько функций), то необходима поясняющая легенда (plt.legend); **В противном случае &ndash; -0.05 балла**\n",
    "    * все линии на графиках должны быть чётко видны (нет похожих цветов или цветов, сливающихся с фоном); **В противном случае &ndash; -0.05 балла**\n",
    "    * если отображена величина, имеющая очевидный диапазон значений (например, проценты могут быть от 0 до 100), то желательно масштабировать ось на весь диапазон значений (исключением является случай, когда вам необходимо показать малое отличие, которое незаметно в таких масштабах);\n",
    "    * графики должны быть не супер-микро и не супер-макро по размерам, так, чтобы можно было увидеть все, что нужно.\n",
    "    * при необходимости улучшения наглядности графиков, можно пользоваться логарифмической шкалой по осям x/y.\n",
    "    \n",
    "### А также..\n",
    "\n",
    "* Для удобства поиска вопросов, на которые от вас просят ответа, мы пометили их знаком **(?)**\n",
    "* Знак **(!)** означает, что выполнение замечания необходимо для **возможности получения полного балла**\n",
    "* Даем до +0.3 баллов за выдающиеся успехи по субъективному мнению проверяющих. Этот **бонус** не апеллируется\n",
    "\n",
    "### О задании\n",
    "\n",
    "В этом задании вам предстоит воспользоваться возможностями bootstraping для оценки смещения и разброса алгоритмов машинного обучения. Делать мы это будем на данных boston. \n",
    "Также в задании вам будет предложено пообучать готовые модели градиентного бустинга и CatBoost."
   ]
  },
  {
   "cell_type": "markdown",
   "metadata": {},
   "source": [
    "**Напоминание:**\n",
    "    \n",
    "* Все ваши графики должны быть **\"красивыми\"** --- подробнее о том, как их оформлять, можно найти в первом практическом задании. При несоответствии какиму-то из критериев вам могут снять баллы.\n",
    "* Пишите в текстовых ячейках/print в коде ответы на **все вопросы из заданий/просьбы сделать выводы** --- при их отсутствии мы не можем понять, сделали ли вы задание и понимаете, что происходит, и поэтому будем снижать баллы"
   ]
  },
  {
   "cell_type": "markdown",
   "metadata": {},
   "source": [
    "## Часть 1. Bias-Variance Decomposition"
   ]
  },
  {
   "cell_type": "code",
   "execution_count": 1,
   "metadata": {},
   "outputs": [],
   "source": [
    "import numpy as np\n",
    "import pandas as pd\n",
    "from matplotlib import pyplot as plt\n",
    "%matplotlib inline\n",
    "\n",
    "import warnings\n",
    "warnings.filterwarnings('ignore')"
   ]
  },
  {
   "cell_type": "code",
   "execution_count": 2,
   "metadata": {},
   "outputs": [],
   "source": [
    "from sklearn.datasets import load_boston"
   ]
  },
  {
   "cell_type": "code",
   "execution_count": 3,
   "metadata": {},
   "outputs": [],
   "source": [
    "boston = load_boston()"
   ]
  },
  {
   "cell_type": "code",
   "execution_count": 4,
   "metadata": {},
   "outputs": [],
   "source": [
    "X = boston[\"data\"]\n",
    "y = boston[\"target\"]"
   ]
  },
  {
   "cell_type": "code",
   "execution_count": 5,
   "metadata": {},
   "outputs": [
    {
     "data": {
      "text/plain": [
       "((506, 13), (506,))"
      ]
     },
     "execution_count": 5,
     "metadata": {},
     "output_type": "execute_result"
    }
   ],
   "source": [
    "X.shape, y.shape"
   ]
  },
  {
   "cell_type": "markdown",
   "metadata": {},
   "source": [
    "### Вычисление bias и variance с помощью бутстрапа\n",
    "На лекции была выведено следующая формула, показывающая, как можно представить ошибку алгоритма регрессии в виде суммы трех компонент:\n",
    "$$\n",
    "L(\\mu) = \n",
    "    \\mathbb{E}_{x, y}\\bigl[\\mathbb{E}_{X}\\bigl[ (y - \\mu(X)(x))^2 \\bigr]\\bigr] = \n",
    "$$\n",
    "$$\n",
    "    \\underbrace{\\mathbb{E}_{x, y}\\bigl[(y - \\mathbb{E}[y|x] )^2\\bigr]}_{\\text{шум}} + \\underbrace{\\mathbb{E}_{x}\\bigl[(\\mathbb{E}_{X}[\\mu(X)(x)] - \\mathbb{E}[y|x] )^2\\bigr]}_{\\text{смещение}} +\n",
    "    \\underbrace{\\mathbb{E}_{x}\\bigl[\\mathbb{E}_{X}\\bigl[(\\mu(X)(x) - \\mathbb{E}_{X}[\\mu(X)(x)] )^2\\bigr]\\bigr]}_{\\text{разброс}},\n",
    "$$\n",
    "* $\\mu(X)$ — алгоритм, обученный по выборке $X = \\{(x_1, y_1), \\dots (x_\\ell, y_\\ell)\\}$;\n",
    "* $\\mu(X)(x)$ — ответ алгоритма, обученного по выборке $X$, на объекте $x$;\n",
    "* $\\mathbb{E}_{X}$ — мат. ожидание по всем возможным выборкам;\n",
    "* $\\mathbb{E}_{X}[\\mu(X)(x)]$ — \"средний\" ответ алгоритма, обученного по всем возможным выборкам $X$, на объекте $x$.\n",
    "    \n",
    "С помощью этой формулы мы можем анализировать свойства алгоритма обучения модели $\\mu$, если зададим вероятностную модель порождения пар $p(x, y)$.\n",
    "\n",
    "В реальных задачах мы, конечно же, не знаем распределение на парах объект - правильный ответ. Однако у нас есть набор семплов из этого распределения (обучающую выборка), и мы можем использовать его, чтобы оценивать математические ожидания. Для оценки мат. ожиданий по выборкам мы будем пользоваться бутстрэпом - методом генерации \"новых\" выборок из одной с помощью выбора объектов с возвращением. Разберем несколько шагов на пути к оценке смещения и разброса.\n",
    "\n",
    "#### Приближенное вычисление интегралов\n",
    "На занятиях мы разбирали примеры аналитического вычисления смещения и разброса нескольких алгоритмов обучения. Для большинства моделей данных и алгоритмов обучения аналитически рассчитать математические ожидания в формулах не удастся. Однако мат. ожидания можно оценивать приближенно. Чтобы оценить математическое ожидание $\\mathbb{E}_{\\bar z} f(\\bar z)$ функции от многомерной случайной величины $\\bar z = (z_1, \\dots, z_d)$, $\\bar z \\sim p(\\bar z)$, можно сгенерировать выборку из распределения $p(\\bar z)$ и усреднить значение функции на элементах этой выборки:\n",
    "$$\\mathbb{E}_{\\bar z} f(z) = \\int f(\\bar z) p(\\bar z) d \\bar z \\approx \\frac 1 m \\sum_{i=1}^m f(\\bar z_i), \\, \\bar z_i \\sim p(\\bar z), i = 1, \\dots, m.$$\n",
    "\n",
    "Например, оценим $\\mathbb{E}_z z^2,$ $z \\sim \\mathcal{N}(\\mu=5, \\sigma=3)$ (из теории вероятностей мы знаем, что\n",
    "$\\mathbb{E}_z z^2 = \\sigma^2 + \\mu^2 = 34$):"
   ]
  },
  {
   "cell_type": "code",
   "execution_count": 6,
   "metadata": {},
   "outputs": [
    {
     "data": {
      "text/plain": [
       "35.54929897768199"
      ]
     },
     "execution_count": 6,
     "metadata": {},
     "output_type": "execute_result"
    }
   ],
   "source": [
    "z = np.random.normal(loc=5, scale=3, size=1000)\n",
    "(z**2).mean()"
   ]
  },
  {
   "cell_type": "markdown",
   "metadata": {},
   "source": [
    "#### Оценивание $\\mathbb{E}_{x, y}$\n",
    "Оценить мат. ожидания по $x$ и по $x, y$, встречающиеся во всех трех компонентах разложения, несложно, потому что у нас есть выборка объектов из распределения данных $p(x, y)$:\n",
    "$$ \\mathbb{E}_{x} f(x) \\approx \\frac 1 N \\sum_{i=1}^N f(x_i), \\quad\n",
    "\\mathbb{E}_{x, y} f(x, y) \\approx \\frac 1 N \\sum_{i=1}^N f(x_i, y_i),$$\n",
    "где $N$ - число объектов в выборке, $\\{(x_i, y_i)\\}_{i=1}^N$ - сама выборка. \n",
    "\n",
    "#### Оценивание $\\mathbb{E}_X$ с помощью бутстрапа\n",
    "Чтобы оценить мат. ожидание по $X$, нам понадобится выборка из выборок:\n",
    "$$\\mathbb{E}_X f(X) \\approx \\frac 1 s \\sum_{j=1}^s f(X_j),$$\n",
    "где $X_j$ - $j$-я выборка. Чтобы их получить, мы можем воспользоваться бутстрапом - методом генерации выборок на основе выбора объектов с возвращением. Чтобы составить одну выборку, будем $N$ раз выбирать индекс объекта $i \\sim \\text{Uniform}(1 \\dots N)$ и добавлять $i$-ю пару (объект, целевая переменная) в выборку. В результате в каждой выборке могут появиться повторяющиеся объекты, а какие-то объекты могут вовсе не войти в некоторые выборки.\n",
    "\n",
    "#### Итоговый алгоритм оценки смещения и разброса алгоритма $a$\n",
    "1. Сгенерировать $s$ выборок $X_j$ методом бутстрапа.\n",
    "1. На каждой выборке $X_j$ обучить алгоритм $a_j$.\n",
    "1. Для каждой выборки $X_j$ определить множество объектов $T_j$, не вошедших в нее (out-of-bag). Вычислить предсказания алгоритма $a_j$ на объектах $T_j$. \n",
    "\n",
    "Поскольку у нас есть только один ответ для каждого объекта, мы будем считать шум равным 0, а $\\mathbb{E}[y|x]$ равным имеющемуся правильному ответу для объекта $x$. \n",
    "\n",
    "Итоговые оценки:\n",
    "* Смещение: для одного объекта - квадрат разности среднего предсказания и правильного ответа. Среднее предсказание берется только по тем алгоритмам $a_j$, для которых этот объект входил в out-of-bag выборку $T_j$. Для получения общего смещения выполнить усреденение смещений по объектам.\n",
    "* Разброс: для одного объекта - выборочная дисперсия предсказаний алгоритмов $a_j$, для которых этот объект входил в out-of-bag выборку $T_j$. Для получения общего разброса выполнить усреденение разбросов по объектам.\n",
    "* Ошибка $L$: усреднить квадраты разностей предсказания и правильного ответа по всем выполненным предсказаниям для всех объектов.\n",
    "\n",
    "В результате должно получиться, что ошибка приблизительно равна сумме смещения и разброса!\n",
    "\n",
    "Алгоритм также вкратце описан по [ссылке](https://web.engr.oregonstate.edu/~tgd/classes/534/slides/part9.pdf) (слайды 19-21).\n",
    "\n",
    "__Задание 1. (1.5 баллa)__\n",
    "\n",
    "Реализуйте описанный алгоритм. Обратите внимание, что если объект не вошел ни в одну из out-of-bag выборок, учитывать его в вычислении итоговых величин не нужно. Как обычно, разрешается использовать только один цикл - по выборкам (от 0 до num_runs-1)."
   ]
  },
  {
   "cell_type": "code",
   "execution_count": 7,
   "metadata": {},
   "outputs": [],
   "source": [
    "def compute_biase_variance(regressor, X, y, num_runs=1000):\n",
    "    \"\"\"\n",
    "    :param regressor: sklearn estimator with fit(...) and predict(...) method\n",
    "    :param X: numpy-array representing training set ob objects, shape [n_obj, n_feat]\n",
    "    :param y: numpy-array representing target for training objects, shape [n_obj]\n",
    "    :param num_runs: int, number of samples (s in the description of the algorithm)\n",
    "    \n",
    "    :returns: bias (float), variance (float), error (float) \n",
    "    each value is computed using bootstrap\n",
    "    \"\"\"\n",
    "    all_preds = np.zeros((num_runs, X.shape[0])) \n",
    "    all_masks = np.zeros((num_runs, X.shape[0]))\n",
    "    l = 0.0\n",
    "    for i in range(num_runs):\n",
    "        idx = np.random.randint(X.shape[0], size=X.shape[0])\n",
    "        mask = np.ones(X.shape[0]) == 1\n",
    "        mask[idx] = False\n",
    "\n",
    "        regressor.fit(X[idx], y[idx])\n",
    "        preds = regressor.predict(X[mask])\n",
    "        l += ((preds - y[mask]) ** 2).mean()\n",
    "        all_preds[i][mask] = preds\n",
    "        all_masks[i][mask] = 1\n",
    "    all_used = all_masks.sum(axis=0) > 0\n",
    "    all_preds = all_preds[:, all_used]\n",
    "    num_preds = all_masks[:, all_used].sum(axis=0)\n",
    "    objects_mean = all_preds.sum(axis=0) / num_preds\n",
    "    bias = ((objects_mean - y[all_used]) ** 2).mean()\n",
    "    variance = ((all_preds ** 2).sum(axis=0) / (num_preds - 1) - (all_preds.sum(axis=0) ** 2) / (num_preds * (num_preds - 1))).mean()\n",
    "    \n",
    "    l = l / num_runs\n",
    "    return bias, variance, l"
   ]
  },
  {
   "cell_type": "markdown",
   "metadata": {},
   "source": [
    "**Задание 2. (0.5 баллa)**\n",
    "\n",
    "**(0.3 балла)** Оцените смещение, разброс и ошибку для трех алгоритмов с гиперпараметрами по умолчанию: линейная регрессия, решающее дерево, случайный лес.\n"
   ]
  },
  {
   "cell_type": "code",
   "execution_count": 8,
   "metadata": {},
   "outputs": [],
   "source": [
    "from sklearn.linear_model import LinearRegression\n",
    "from sklearn.tree import DecisionTreeRegressor\n",
    "from sklearn.ensemble import RandomForestRegressor"
   ]
  },
  {
   "cell_type": "code",
   "execution_count": 9,
   "metadata": {},
   "outputs": [
    {
     "name": "stdout",
     "output_type": "stream",
     "text": [
      "LinearRegression:\n",
      "bias = 23.7344, variance = 0.9390, sum = 24.6734, L = 24.5836\n",
      "DecisionTree:\n",
      "bias = 10.2442, variance = 13.1781, sum = 23.4223, L = 23.3311\n",
      "RandomForest:\n",
      "bias = 10.5593, variance = 2.2338, sum = 12.7931, L = 12.7696\n"
     ]
    }
   ],
   "source": [
    "print('LinearRegression:')\n",
    "bias, var, l = compute_biase_variance(LinearRegression(), X, y, 1000)\n",
    "print('bias = %.4f, variance = %.4f, sum = %.4f, L = %.4f' % (bias, var, bias + var, l))\n",
    "print('DecisionTree:')\n",
    "bias, var, l = compute_biase_variance(DecisionTreeRegressor(), X, y, 1000)\n",
    "print('bias = %.4f, variance = %.4f, sum = %.4f, L = %.4f' % (bias, var, bias + var, l))\n",
    "print('RandomForest:')\n",
    "bias, var, l = compute_biase_variance(RandomForestRegressor(), X, y, 1000)\n",
    "print('bias = %.4f, variance = %.4f, sum = %.4f, L = %.4f' % (bias, var, bias + var, l))"
   ]
  },
  {
   "cell_type": "markdown",
   "metadata": {},
   "source": [
    "**(0.1 балл) (?)** Проанализируйте полученный результат. Согласуются ли полученные результаты с теми, что мы обсуждали на семинарах (с комментарием)?\n",
    "\n",
    "По экспериментам видно, что ошибка приблизительно равна сумме смещения и разброса. Полученные результаты согласуются с теми, которые ожидалось получить. Линейная регрессия и решающее дерево имеют одинаковую ошибку, при этом у линейной регрессии большое смещение и маленький разброс, как у простой модели, а у решающего дерева разброс меньше и значительно больше разброс, так как деревья склонны к переобучению. Самая маленькая ошибка у случайного леса, так как алгоритм бэггинга уменьшает разброс по сравнению с решающим деревом и не меняет смещение.\n",
    "\n",
    "**(0.1 балл) (?)** Вспомните во сколько раз в теории бутстрап уменьшает разброс базового алгоритма. Выполняется ли это в ваших экспериментах? Если нет, поясните, почему.\n",
    "\n",
    "Бутстрап уменьшает разброс базового алгоритма в количество раз, равное числу базовых алгоритмов. Так как в RandomForestRegressor число деревьев по умолчанию равно 100, разброс должен уменьшится в 100 раз, но в эксперименте он уменьшился чуть меньше, чем в 6 раз. Это может быть связано с тем, что базовые алгоритмы не независимые."
   ]
  },
  {
   "cell_type": "markdown",
   "metadata": {},
   "source": [
    "### Визуализация предсказаний базовых алгоритмов бэггинга\n",
    "\n",
    "В материалах лекций можно найти изображение, похожее на мишень - визуализация алгоритмов с разным смещением и разным разбросом. В центре \"мишени\" - правильный ответ, а \"попадания\" - предсказания алгоритмов, обученных по разным выборкам. Построим похожее изображение на наших данных для трех алгоритмов. Наши \"мишени\" будут одномерными, потому что мы решаем задачу одномерной регрессии.\n",
    "\n",
    "__Задание 3. (1.5 балла)__\n",
    "\n",
    "**(0.5 балла)** Реализуйте фукнцию plot_predictions. Она должна выполнять следующие действия:\n",
    "1. Случайно выбрать num_test_objects пар объект-целевая переменная из выборки X, y. Получится две выборки: маленькая X_test, y_test (выбранные тестовые объекты) и X_train, y_train (остальные объекты).\n",
    "1. Сгенерировать num_runs выборок методом бутстарапа из X_train, y_train. На каждой выборке обучить алгоритм regressor и сделать предсказания для X_test.\n",
    "1. Нарисовать scatter-график. По оси абсцисс - объекты тестовой выборки (номера от 0 до num_test_objects-1), по оси ординат - предсказания для каждого из num_runs выборок. В итоге получится num_test_objects столбиков с точками. Для каждого тестового объекта надо отметить одним цветом (в рамках каждого номера объекта, т.е. предсказания для объектов с одинаковым номером -- одинаковым цветом, а с разными -- разными цветами) все предсказания для него, а также черным цветом отметить правильный ответ.\n",
    "1. Подпишите оси и название графика (аргумент title)."
   ]
  },
  {
   "cell_type": "code",
   "execution_count": 10,
   "metadata": {},
   "outputs": [],
   "source": [
    "from sklearn.model_selection import train_test_split"
   ]
  },
  {
   "cell_type": "code",
   "execution_count": 11,
   "metadata": {},
   "outputs": [],
   "source": [
    "def plot_predictions(regressor, X, y, num_runs=100, num_test_objects=10, title=\"\"):\n",
    "    \"\"\"\n",
    "    plot graphics described above\n",
    "    \"\"\"\n",
    "    X_train, X_test, y_train, y_test = train_test_split(X, y, test_size=num_test_objects, random_state=42)\n",
    "    for i in range(num_runs):\n",
    "        idx = np.random.randint(X_train.shape[0], size=X_train.shape[0])\n",
    "\n",
    "        regressor.fit(X_train[idx], y_train[idx])\n",
    "        preds = regressor.predict(X_test)\n",
    "        plt.scatter(np.arange(num_test_objects), preds, c=[i for i in range(num_test_objects)], alpha=0.2, cmap='gist_rainbow')\n",
    "        \n",
    "    plt.title(title)\n",
    "    plt.scatter(np.arange(num_test_objects), y_test, c='black', label=f'Правильный ответ')\n",
    "    plt.xticks(np.arange(num_test_objects))\n",
    "    plt.ylim([y_test.min() - 10, y_test.max() + 10])\n",
    "    plt.xlabel('Номер тестового объекта', fontsize=10)\n",
    "    plt.ylabel('Педсказания алгоритма', fontsize=10)"
   ]
  },
  {
   "cell_type": "markdown",
   "metadata": {},
   "source": [
    "**(0.5 баллa)** Нарисуйте графики для линейной регрессии, решающего дерева и случайного леса. Нарисуйте три графика в строчку (это можно сделать с помощью plt.subplot) с одинаковой осью ординат (это важно для понимания масштаба разброса у разных алгоритмов):"
   ]
  },
  {
   "cell_type": "code",
   "execution_count": 12,
   "metadata": {},
   "outputs": [
    {
     "data": {
      "image/png": "[encoded data removed]",
      "text/plain": [
       "<Figure size 1500x500 with 3 Axes>"
      ]
     },
     "metadata": {},
     "output_type": "display_data"
    }
   ],
   "source": [
    "fig = plt.figure(figsize=(15,5))\n",
    "plt.suptitle('Предсказания алгоритмов на тестовой выборке', fontsize=12)\n",
    "\n",
    "plt.subplot(1, 3, 1)\n",
    "plot_predictions(LinearRegression(), X, y, num_runs=100, num_test_objects=10, title=\"LinearRegression\")\n",
    "plt.subplot(1, 3, 2)\n",
    "plot_predictions(DecisionTreeRegressor(), X, y, num_runs=100, num_test_objects=10, title=\"DecisionTree\")\n",
    "plt.subplot(1, 3, 3)\n",
    "plot_predictions(RandomForestRegressor(), X, y, num_runs=100, num_test_objects=10, title=\"RandomForest\")\n",
    "plt.legend()\n",
    "\n",
    "plt.tight_layout()\n",
    "plt.show()"
   ]
  },
  {
   "cell_type": "markdown",
   "metadata": {},
   "source": [
    "**(0.5 балла) (?)** Для каждого графика прокомментируйте, как он характеризует смещение и разброс соответствующего алгоритма.\n",
    "\n",
    "По графикам видно, что для линейной регрессии ответы модели имеют сильное смещение (находятся далеко от правильного ответа) и небольшой разброс (маленький диапазон значений). Решающее дерево имеет большой разброс значений, но меньшее смещение (черные точки находятся примерно посередине диапазона). Сдучайный лес значительно уменьшает разброс решающего дерева и не изменяет смещение (черные точки остаются примерно на том же расстоянии от середины диапазона)"
   ]
  },
  {
   "cell_type": "markdown",
   "metadata": {},
   "source": [
    "### Часть 2. Градиентный бустинг"
   ]
  },
  {
   "cell_type": "markdown",
   "metadata": {},
   "source": [
    "**Задание 4 (1 балл)**\n",
    "\n",
    "Мы будем использовать данные из [соревнования](https://www.kaggle.com/t/b710e05dc0bd424995ca94da5b639869) если у вас нет аккаунта в kaggle, скачайте их [здесь](https://drive.google.com/drive/folders/1gU8yF0K9rtuRvdziMCcM5q8N5g7h2AVh?usp=sharing).\n",
    "* Загрузите таблицу application_train.csv;\n",
    "* Запишите в Y столбец с целевой переменной (TARGET);\n",
    "* Удалите ненужные столбцы:\n",
    "    * Воспользуйтесь описанием соревнования\n",
    "    * При желании, воспользуйтесь методами feature selection/стат. методами, если хотите. Объясните, что использовали и почему решили выкинуть тот или иной признак.\n",
    "* Определите тип столбцов и заполните пропуски - стратегия произвольная;\n",
    "* Разбейте выборку в соотношении 70:30 с random_state=0. Если считаете нужным, сделайте сбалансированное по классам разбиение.\n",
    "\n",
    "Так как в данных имеется значительный дисбаланс классов, в качестве метрики качества везде будем использовать площадь под precision-recall кривой (AUC-PR)."
   ]
  },
  {
   "cell_type": "code",
   "execution_count": 13,
   "metadata": {},
   "outputs": [
    {
     "data": {
      "text/html": [
       "<div>\n",
       "<style scoped>\n",
       "    .dataframe tbody tr th:only-of-type {\n",
       "        vertical-align: middle;\n",
       "    }\n",
       "\n",
       "    .dataframe tbody tr th {\n",
       "        vertical-align: top;\n",
       "    }\n",
       "\n",
       "    .dataframe thead th {\n",
       "        text-align: right;\n",
       "    }\n",
       "</style>\n",
       "<table border=\"1\" class=\"dataframe\">\n",
       "  <thead>\n",
       "    <tr style=\"text-align: right;\">\n",
       "      <th></th>\n",
       "      <th>SK_ID_CURR</th>\n",
       "      <th>NAME_CONTRACT_TYPE</th>\n",
       "      <th>CODE_GENDER</th>\n",
       "      <th>FLAG_OWN_CAR</th>\n",
       "      <th>FLAG_OWN_REALTY</th>\n",
       "      <th>CNT_CHILDREN</th>\n",
       "      <th>AMT_INCOME_TOTAL</th>\n",
       "      <th>AMT_CREDIT</th>\n",
       "      <th>AMT_ANNUITY</th>\n",
       "      <th>AMT_GOODS_PRICE</th>\n",
       "      <th>...</th>\n",
       "      <th>FLAG_DOCUMENT_18</th>\n",
       "      <th>FLAG_DOCUMENT_19</th>\n",
       "      <th>FLAG_DOCUMENT_20</th>\n",
       "      <th>FLAG_DOCUMENT_21</th>\n",
       "      <th>AMT_REQ_CREDIT_BUREAU_HOUR</th>\n",
       "      <th>AMT_REQ_CREDIT_BUREAU_DAY</th>\n",
       "      <th>AMT_REQ_CREDIT_BUREAU_WEEK</th>\n",
       "      <th>AMT_REQ_CREDIT_BUREAU_MON</th>\n",
       "      <th>AMT_REQ_CREDIT_BUREAU_QRT</th>\n",
       "      <th>AMT_REQ_CREDIT_BUREAU_YEAR</th>\n",
       "    </tr>\n",
       "  </thead>\n",
       "  <tbody>\n",
       "    <tr>\n",
       "      <th>0</th>\n",
       "      <td>247330</td>\n",
       "      <td>Cash loans</td>\n",
       "      <td>F</td>\n",
       "      <td>N</td>\n",
       "      <td>N</td>\n",
       "      <td>0</td>\n",
       "      <td>157500.0</td>\n",
       "      <td>706410.0</td>\n",
       "      <td>67072.5</td>\n",
       "      <td>679500.0</td>\n",
       "      <td>...</td>\n",
       "      <td>0</td>\n",
       "      <td>0</td>\n",
       "      <td>0</td>\n",
       "      <td>0</td>\n",
       "      <td>0.0</td>\n",
       "      <td>0.0</td>\n",
       "      <td>0.0</td>\n",
       "      <td>0.0</td>\n",
       "      <td>0.0</td>\n",
       "      <td>1.0</td>\n",
       "    </tr>\n",
       "    <tr>\n",
       "      <th>1</th>\n",
       "      <td>425716</td>\n",
       "      <td>Cash loans</td>\n",
       "      <td>F</td>\n",
       "      <td>Y</td>\n",
       "      <td>Y</td>\n",
       "      <td>1</td>\n",
       "      <td>121500.0</td>\n",
       "      <td>545040.0</td>\n",
       "      <td>25407.0</td>\n",
       "      <td>450000.0</td>\n",
       "      <td>...</td>\n",
       "      <td>0</td>\n",
       "      <td>0</td>\n",
       "      <td>0</td>\n",
       "      <td>0</td>\n",
       "      <td>0.0</td>\n",
       "      <td>0.0</td>\n",
       "      <td>0.0</td>\n",
       "      <td>0.0</td>\n",
       "      <td>0.0</td>\n",
       "      <td>0.0</td>\n",
       "    </tr>\n",
       "    <tr>\n",
       "      <th>2</th>\n",
       "      <td>331625</td>\n",
       "      <td>Cash loans</td>\n",
       "      <td>M</td>\n",
       "      <td>Y</td>\n",
       "      <td>Y</td>\n",
       "      <td>1</td>\n",
       "      <td>225000.0</td>\n",
       "      <td>942300.0</td>\n",
       "      <td>27679.5</td>\n",
       "      <td>675000.0</td>\n",
       "      <td>...</td>\n",
       "      <td>0</td>\n",
       "      <td>0</td>\n",
       "      <td>0</td>\n",
       "      <td>0</td>\n",
       "      <td>0.0</td>\n",
       "      <td>0.0</td>\n",
       "      <td>0.0</td>\n",
       "      <td>0.0</td>\n",
       "      <td>0.0</td>\n",
       "      <td>1.0</td>\n",
       "    </tr>\n",
       "    <tr>\n",
       "      <th>3</th>\n",
       "      <td>455397</td>\n",
       "      <td>Revolving loans</td>\n",
       "      <td>F</td>\n",
       "      <td>N</td>\n",
       "      <td>Y</td>\n",
       "      <td>2</td>\n",
       "      <td>144000.0</td>\n",
       "      <td>180000.0</td>\n",
       "      <td>9000.0</td>\n",
       "      <td>180000.0</td>\n",
       "      <td>...</td>\n",
       "      <td>0</td>\n",
       "      <td>0</td>\n",
       "      <td>0</td>\n",
       "      <td>0</td>\n",
       "      <td>0.0</td>\n",
       "      <td>0.0</td>\n",
       "      <td>0.0</td>\n",
       "      <td>0.0</td>\n",
       "      <td>1.0</td>\n",
       "      <td>2.0</td>\n",
       "    </tr>\n",
       "    <tr>\n",
       "      <th>4</th>\n",
       "      <td>449114</td>\n",
       "      <td>Cash loans</td>\n",
       "      <td>F</td>\n",
       "      <td>N</td>\n",
       "      <td>Y</td>\n",
       "      <td>0</td>\n",
       "      <td>112500.0</td>\n",
       "      <td>729792.0</td>\n",
       "      <td>37390.5</td>\n",
       "      <td>630000.0</td>\n",
       "      <td>...</td>\n",
       "      <td>0</td>\n",
       "      <td>0</td>\n",
       "      <td>0</td>\n",
       "      <td>0</td>\n",
       "      <td>0.0</td>\n",
       "      <td>0.0</td>\n",
       "      <td>0.0</td>\n",
       "      <td>0.0</td>\n",
       "      <td>1.0</td>\n",
       "      <td>0.0</td>\n",
       "    </tr>\n",
       "  </tbody>\n",
       "</table>\n",
       "<p>5 rows × 121 columns</p>\n",
       "</div>"
      ],
      "text/plain": [
       "   SK_ID_CURR NAME_CONTRACT_TYPE CODE_GENDER FLAG_OWN_CAR FLAG_OWN_REALTY  \\\n",
       "0      247330         Cash loans           F            N               N   \n",
       "1      425716         Cash loans           F            Y               Y   \n",
       "2      331625         Cash loans           M            Y               Y   \n",
       "3      455397    Revolving loans           F            N               Y   \n",
       "4      449114         Cash loans           F            N               Y   \n",
       "\n",
       "   CNT_CHILDREN  AMT_INCOME_TOTAL  AMT_CREDIT  AMT_ANNUITY  AMT_GOODS_PRICE  \\\n",
       "0             0          157500.0    706410.0      67072.5         679500.0   \n",
       "1             1          121500.0    545040.0      25407.0         450000.0   \n",
       "2             1          225000.0    942300.0      27679.5         675000.0   \n",
       "3             2          144000.0    180000.0       9000.0         180000.0   \n",
       "4             0          112500.0    729792.0      37390.5         630000.0   \n",
       "\n",
       "   ... FLAG_DOCUMENT_18 FLAG_DOCUMENT_19 FLAG_DOCUMENT_20 FLAG_DOCUMENT_21  \\\n",
       "0  ...                0                0                0                0   \n",
       "1  ...                0                0                0                0   \n",
       "2  ...                0                0                0                0   \n",
       "3  ...                0                0                0                0   \n",
       "4  ...                0                0                0                0   \n",
       "\n",
       "  AMT_REQ_CREDIT_BUREAU_HOUR  AMT_REQ_CREDIT_BUREAU_DAY  \\\n",
       "0                        0.0                        0.0   \n",
       "1                        0.0                        0.0   \n",
       "2                        0.0                        0.0   \n",
       "3                        0.0                        0.0   \n",
       "4                        0.0                        0.0   \n",
       "\n",
       "   AMT_REQ_CREDIT_BUREAU_WEEK  AMT_REQ_CREDIT_BUREAU_MON  \\\n",
       "0                         0.0                        0.0   \n",
       "1                         0.0                        0.0   \n",
       "2                         0.0                        0.0   \n",
       "3                         0.0                        0.0   \n",
       "4                         0.0                        0.0   \n",
       "\n",
       "   AMT_REQ_CREDIT_BUREAU_QRT  AMT_REQ_CREDIT_BUREAU_YEAR  \n",
       "0                        0.0                         1.0  \n",
       "1                        0.0                         0.0  \n",
       "2                        0.0                         1.0  \n",
       "3                        1.0                         2.0  \n",
       "4                        1.0                         0.0  \n",
       "\n",
       "[5 rows x 121 columns]"
      ]
     },
     "execution_count": 13,
     "metadata": {},
     "output_type": "execute_result"
    }
   ],
   "source": [
    "all_data = pd.read_csv('hse19-gbm/application_train.csv')\n",
    "Y = all_data.TARGET.values\n",
    "data = all_data.drop('TARGET', axis=1)\n",
    "data.head()"
   ]
  },
  {
   "cell_type": "markdown",
   "metadata": {},
   "source": [
    "Задача состоит в предсказании целевой переменная(1 - клиент, испытывающий трудности с оплатой: он/она просрочил платеж более чем на X дней по крайней мере по одному из первых Y платежей по кредиту в нашей выборке, 0 - все остальные случаи)"
   ]
  },
  {
   "cell_type": "markdown",
   "metadata": {},
   "source": [
    "Удалим столбец с идентификатором, так как он не несет полезной информации"
   ]
  },
  {
   "cell_type": "code",
   "execution_count": 14,
   "metadata": {},
   "outputs": [],
   "source": [
    "data = data.drop('SK_ID_CURR', axis=1)"
   ]
  },
  {
   "cell_type": "code",
   "execution_count": 15,
   "metadata": {},
   "outputs": [
    {
     "data": {
      "text/plain": [
       "array([dtype('O'), dtype('int64'), dtype('float64')], dtype=object)"
      ]
     },
     "execution_count": 15,
     "metadata": {},
     "output_type": "execute_result"
    }
   ],
   "source": [
    "data.dtypes.unique()"
   ]
  },
  {
   "cell_type": "markdown",
   "metadata": {},
   "source": [
    "Определим численные и порядковые признаки"
   ]
  },
  {
   "cell_type": "code",
   "execution_count": 16,
   "metadata": {},
   "outputs": [
    {
     "data": {
      "text/plain": [
       "(16, 65, 39)"
      ]
     },
     "execution_count": 16,
     "metadata": {},
     "output_type": "execute_result"
    }
   ],
   "source": [
    "categorical = list(data.dtypes[data.dtypes == \"object\"].index)\n",
    "num_features = list(data.dtypes[data.dtypes == \"float64\"].index)\n",
    "other_features = list(data.dtypes[data.dtypes == \"int64\"].index)\n",
    "len(categorical), len(num_features), len(other_features)"
   ]
  },
  {
   "cell_type": "code",
   "execution_count": 17,
   "metadata": {},
   "outputs": [
    {
     "data": {
      "text/plain": [
       "CNT_CHILDREN                      14\n",
       "DAYS_BIRTH                     17396\n",
       "DAYS_EMPLOYED                  11792\n",
       "DAYS_ID_PUBLISH                 6111\n",
       "FLAG_MOBIL                         2\n",
       "FLAG_EMP_PHONE                     2\n",
       "FLAG_WORK_PHONE                    2\n",
       "FLAG_CONT_MOBILE                   2\n",
       "FLAG_PHONE                         2\n",
       "FLAG_EMAIL                         2\n",
       "REGION_RATING_CLIENT               3\n",
       "REGION_RATING_CLIENT_W_CITY        3\n",
       "HOUR_APPR_PROCESS_START           24\n",
       "REG_REGION_NOT_LIVE_REGION         2\n",
       "REG_REGION_NOT_WORK_REGION         2\n",
       "LIVE_REGION_NOT_WORK_REGION        2\n",
       "REG_CITY_NOT_LIVE_CITY             2\n",
       "REG_CITY_NOT_WORK_CITY             2\n",
       "LIVE_CITY_NOT_WORK_CITY            2\n",
       "FLAG_DOCUMENT_2                    2\n",
       "FLAG_DOCUMENT_3                    2\n",
       "FLAG_DOCUMENT_4                    2\n",
       "FLAG_DOCUMENT_5                    2\n",
       "FLAG_DOCUMENT_6                    2\n",
       "FLAG_DOCUMENT_7                    2\n",
       "FLAG_DOCUMENT_8                    2\n",
       "FLAG_DOCUMENT_9                    2\n",
       "FLAG_DOCUMENT_10                   2\n",
       "FLAG_DOCUMENT_11                   2\n",
       "FLAG_DOCUMENT_12                   2\n",
       "FLAG_DOCUMENT_13                   2\n",
       "FLAG_DOCUMENT_14                   2\n",
       "FLAG_DOCUMENT_15                   2\n",
       "FLAG_DOCUMENT_16                   2\n",
       "FLAG_DOCUMENT_17                   2\n",
       "FLAG_DOCUMENT_18                   2\n",
       "FLAG_DOCUMENT_19                   2\n",
       "FLAG_DOCUMENT_20                   2\n",
       "FLAG_DOCUMENT_21                   2\n",
       "dtype: int64"
      ]
     },
     "execution_count": 17,
     "metadata": {},
     "output_type": "execute_result"
    }
   ],
   "source": [
    "data[other_features].nunique()"
   ]
  },
  {
   "cell_type": "markdown",
   "metadata": {},
   "source": [
    "Признаки, для которых всего два значения (0 или 1), согласно описанию, это флаги, следовательно, их можно отнести к категориальным признакам. Признак времени так же можно отнести к категориальным, так как нельзя задать порядок. Признаки с 3 уникальными значениями характеризуют рейтинг, с 14 - количество, соответственно, их следует отнести к численным."
   ]
  },
  {
   "cell_type": "code",
   "execution_count": 18,
   "metadata": {},
   "outputs": [
    {
     "data": {
      "text/plain": [
       "(16, 68, 36)"
      ]
     },
     "execution_count": 18,
     "metadata": {},
     "output_type": "execute_result"
    }
   ],
   "source": [
    "for f in other_features:\n",
    "    if data[f].nunique() != 2 and f != 'HOUR_APPR_PROCESS_START':\n",
    "        num_features.append(f)\n",
    "        other_features.remove(f)\n",
    "len(categorical), len(num_features), len(other_features)"
   ]
  },
  {
   "cell_type": "code",
   "execution_count": 19,
   "metadata": {},
   "outputs": [
    {
     "data": {
      "text/plain": [
       "FLAG_MOBIL                     4.645610e-06\n",
       "FLAG_DOCUMENT_12               4.645610e-06\n",
       "FLAG_DOCUMENT_10               1.858218e-05\n",
       "FLAG_DOCUMENT_2                2.787301e-05\n",
       "FLAG_DOCUMENT_4                7.432458e-05\n",
       "FLAG_DOCUMENT_7                1.857907e-04\n",
       "FLAG_DOCUMENT_17               2.508012e-04\n",
       "FLAG_DOCUMENT_21               3.111604e-04\n",
       "FLAG_DOCUMENT_20               4.689886e-04\n",
       "FLAG_DOCUMENT_19               5.803667e-04\n",
       "FLAG_DOCUMENT_15               1.155424e-03\n",
       "FLAG_CONT_MOBILE               1.951986e-03\n",
       "FLAG_DOCUMENT_14               2.913563e-03\n",
       "FLAG_DOCUMENT_13               3.416721e-03\n",
       "FLAG_DOCUMENT_9                3.882493e-03\n",
       "FLAG_DOCUMENT_11               3.905539e-03\n",
       "FLAG_DOCUMENT_18               7.995204e-03\n",
       "FLAG_DOCUMENT_16               9.979393e-03\n",
       "FLAG_DOCUMENT_5                1.494693e-02\n",
       "REG_REGION_NOT_LIVE_REGION     1.510907e-02\n",
       "LIVE_REGION_NOT_WORK_REGION    3.916760e-02\n",
       "REG_REGION_NOT_WORK_REGION     4.848638e-02\n",
       "FLAG_EMAIL                     5.390084e-02\n",
       "REG_CITY_NOT_LIVE_CITY         7.233544e-02\n",
       "FLAG_DOCUMENT_8                7.461131e-02\n",
       "FLAG_DOCUMENT_6                8.015830e-02\n",
       "LIVE_CITY_NOT_WORK_CITY        1.469925e-01\n",
       "FLAG_EMP_PHONE                 1.475345e-01\n",
       "FLAG_WORK_PHONE                1.594385e-01\n",
       "REG_CITY_NOT_WORK_CITY         1.772184e-01\n",
       "FLAG_PHONE                     2.017909e-01\n",
       "FLAG_DOCUMENT_3                2.059818e-01\n",
       "REGION_RATING_CLIENT_W_CITY    2.529579e-01\n",
       "HOUR_APPR_PROCESS_START        1.067457e+01\n",
       "DAYS_ID_PUBLISH                2.276948e+06\n",
       "DAYS_BIRTH                     1.902581e+07\n",
       "dtype: float64"
      ]
     },
     "execution_count": 19,
     "metadata": {},
     "output_type": "execute_result"
    }
   ],
   "source": [
    "data[other_features].var().sort_values()"
   ]
  },
  {
   "cell_type": "markdown",
   "metadata": {},
   "source": [
    "Признаки FLAG_MOBIL, FLAG_CONT_MOBILE, и все FLAG_DOCUMENT имеют очень маленький разброс значений, большая часть обьектов принимает на них одинаковое значение. Эти признаки свидетельствуют о предоставлении документов и номера телефона и, вероятно, не несут в себе полезную информацию для модели. "
   ]
  },
  {
   "cell_type": "code",
   "execution_count": 20,
   "metadata": {},
   "outputs": [
    {
     "data": {
      "text/plain": [
       "(16, 68, 24)"
      ]
     },
     "execution_count": 20,
     "metadata": {},
     "output_type": "execute_result"
    }
   ],
   "source": [
    "drop_columns = []\n",
    "for f in other_features:\n",
    "    if data[f].var() < 0.015:\n",
    "        drop_columns.append(f)\n",
    "        other_features.remove(f)\n",
    "len(categorical), len(num_features), len(other_features)"
   ]
  },
  {
   "cell_type": "code",
   "execution_count": 21,
   "metadata": {},
   "outputs": [],
   "source": [
    "data = data.drop(columns=drop_columns)"
   ]
  },
  {
   "cell_type": "markdown",
   "metadata": {},
   "source": [
    "Рассмотрим количество пропусков в признаках и удалим те, в которых пропусков больше 60 процентов."
   ]
  },
  {
   "cell_type": "code",
   "execution_count": 22,
   "metadata": {},
   "outputs": [
    {
     "data": {
      "text/plain": [
       "['OWN_CAR_AGE',\n",
       " 'YEARS_BUILD_MEDI',\n",
       " 'YEARS_BUILD_AVG',\n",
       " 'YEARS_BUILD_MODE',\n",
       " 'FLOORSMIN_AVG',\n",
       " 'FLOORSMIN_MEDI',\n",
       " 'FLOORSMIN_MODE',\n",
       " 'LIVINGAPARTMENTS_AVG',\n",
       " 'LIVINGAPARTMENTS_MODE',\n",
       " 'LIVINGAPARTMENTS_MEDI',\n",
       " 'FONDKAPREMONT_MODE',\n",
       " 'NONLIVINGAPARTMENTS_MEDI',\n",
       " 'NONLIVINGAPARTMENTS_AVG',\n",
       " 'NONLIVINGAPARTMENTS_MODE',\n",
       " 'COMMONAREA_MODE',\n",
       " 'COMMONAREA_MEDI',\n",
       " 'COMMONAREA_AVG']"
      ]
     },
     "execution_count": 22,
     "metadata": {},
     "output_type": "execute_result"
    }
   ],
   "source": [
    "missing = (data.isnull().sum() / data.shape[0]).sort_values()\n",
    "drop_columns = list(missing[missing > 0.6].index)\n",
    "drop_columns"
   ]
  },
  {
   "cell_type": "code",
   "execution_count": 23,
   "metadata": {},
   "outputs": [
    {
     "data": {
      "text/plain": [
       "(15, 52, 24)"
      ]
     },
     "execution_count": 23,
     "metadata": {},
     "output_type": "execute_result"
    }
   ],
   "source": [
    "for f in drop_columns:\n",
    "    if f in num_features:\n",
    "        num_features.remove(f)\n",
    "    if f in categorical:\n",
    "        categorical.remove(f)\n",
    "    if f in other_features:\n",
    "        other_features.remove(f)\n",
    "data = data.drop(columns=drop_columns)\n",
    "len(categorical), len(num_features), len(other_features)"
   ]
  },
  {
   "cell_type": "code",
   "execution_count": 24,
   "metadata": {},
   "outputs": [],
   "source": [
    "data[categorical] = data[categorical].fillna(\"\")\n",
    "data[num_features] = data[num_features].fillna(data[num_features].mean())\n",
    "data[other_features] = data[other_features].fillna(data[other_features].mode())\n",
    "categorical = [*categorical, *other_features]\n",
    "\n",
    "X_train, X_test, y_train, y_test = train_test_split(data, Y, test_size=0.3, stratify=Y, random_state=0)"
   ]
  },
  {
   "cell_type": "markdown",
   "metadata": {},
   "source": [
    "**Задание 5 (1 балл)**"
   ]
  },
  {
   "cell_type": "markdown",
   "metadata": {},
   "source": [
    "**(0.7 баллa)** Обучите реализации градиентного бустинга LightGBM и Catboost на вещественных признаках без подбора параметров. \n",
    "\n",
    "**(0.3 баллa) (?) Получилась ли заметная разнциа в качестве? Как вы думаете, почему?**\n",
    "\n",
    "**Замечание:**\n",
    "* В этом и последующих экспериментах необходимо измерять время обучения моделей."
   ]
  },
  {
   "cell_type": "code",
   "execution_count": 25,
   "metadata": {},
   "outputs": [],
   "source": [
    "from catboost import CatBoostClassifier\n",
    "from lightgbm import LGBMClassifier\n",
    "from sklearn.metrics import average_precision_score\n",
    "import time"
   ]
  },
  {
   "cell_type": "code",
   "execution_count": 26,
   "metadata": {},
   "outputs": [
    {
     "name": "stdout",
     "output_type": "stream",
     "text": [
      "LightGBM:\n",
      "--- 4.1503 seconds ---\n",
      "Test PR-AUC = 0.2223\n",
      "Catboost:\n",
      "--- 47.6491 seconds ---\n",
      "Test PR-AUC = 0.2209\n"
     ]
    }
   ],
   "source": [
    "start_time = time.time()\n",
    "clf = LGBMClassifier()\n",
    "clf.fit(X_train[num_features], y_train)\n",
    "y_pred = clf.predict_proba(X_test[num_features])[:, 1]\n",
    "print('LightGBM:')\n",
    "print(\"--- %.4f seconds ---\" % (time.time() - start_time))\n",
    "print(\"Test PR-AUC = %.4f\" % average_precision_score(y_test, y_pred))\n",
    "start_time = time.time()\n",
    "clf = CatBoostClassifier(logging_level='Silent')\n",
    "clf.fit(X_train[num_features], y_train)\n",
    "y_pred = clf.predict_proba(X_test[num_features])[:, 1]\n",
    "print('Catboost:')\n",
    "print(\"--- %.4f seconds ---\" % (time.time() - start_time))\n",
    "print(\"Test PR-AUC = %.4f\" % average_precision_score(y_test, y_pred))"
   ]
  },
  {
   "cell_type": "markdown",
   "metadata": {},
   "source": [
    "Качество алгоритмов примерно одинаково, LightGBM показал качество чуть выше, так же алгоритм CatBoost работает заметно дольше, что связано с оптимизациями внутри LightGBM для быстроты построения композиции."
   ]
  },
  {
   "cell_type": "markdown",
   "metadata": {},
   "source": [
    "__Задание 6. (2 балла)__\n",
    "\n",
    "**(1.5 баллa)** Подберите оптимальные с точки зрения метрики качества параметры алгоритмов, изменяя:\n",
    "\n",
    "* глубину деревьев;\n",
    "* количество деревьев;\n",
    "* темп обучения;\n",
    "\n",
    "Масштаб значений предлагается посмотреть [тут](https://github.com/esokolov/ml-course-hse/blob/master/2019-fall/seminars/sem10-gbm.ipynb).\n",
    "\n",
    "**(0.5 баллa) (?)** Проанализируйте соотношения получившихся оптимальных глубины и количества деревьев в зависимости от алгоритма.** \n",
    "\n",
    "**Если на перебор гиперпараметров уходит много времени, то переберите значениях каких-нибудь 1-2 гиперпараметров, а не всех предложенных 3**"
   ]
  },
  {
   "cell_type": "code",
   "execution_count": 27,
   "metadata": {},
   "outputs": [],
   "source": [
    "from sklearn.model_selection import GridSearchCV"
   ]
  },
  {
   "cell_type": "code",
   "execution_count": 28,
   "metadata": {},
   "outputs": [
    {
     "name": "stdout",
     "output_type": "stream",
     "text": [
      "LightGBM:\n",
      "--- 805.8985 seconds ---\n",
      "best params: {'learning_rate': 0.01, 'max_depth': 5, 'n_estimators': 700}\n",
      "best score: 0.2273\n"
     ]
    }
   ],
   "source": [
    "start_time = time.time()\n",
    "searcher = GridSearchCV(LGBMClassifier(),\n",
    "                  param_grid={\n",
    "                      'learning_rate': [0.001, 0.01, 0.1],\n",
    "                      'max_depth': [3, 5, 7],\n",
    "                      'n_estimators': [1, 5, 10, 100, 300, 500, 700]\n",
    "                  },\n",
    "                  cv=3,\n",
    "                  scoring='average_precision', n_jobs=-1)\n",
    "searcher.fit(X_train[num_features], y_train)\n",
    "print('LightGBM:')\n",
    "print(\"--- %.4f seconds ---\" % (time.time() - start_time))\n",
    "lightgbm_best_params = searcher.best_params_\n",
    "print('best params:', lightgbm_best_params)\n",
    "print('best score: %.4f' % searcher.best_score_)"
   ]
  },
  {
   "cell_type": "code",
   "execution_count": 29,
   "metadata": {},
   "outputs": [
    {
     "name": "stdout",
     "output_type": "stream",
     "text": [
      "Catboost:\n",
      "--- 657.2444 seconds ---\n",
      "best params: {'learning_rate': 0.1, 'max_depth': 3, 'n_estimators': 400}\n",
      "best score: 0.2263\n"
     ]
    }
   ],
   "source": [
    "start_time = time.time()\n",
    "searcher = GridSearchCV(CatBoostClassifier(logging_level='Silent'),\n",
    "                  param_grid={\n",
    "                      'learning_rate': [0.001, 0.1],\n",
    "                      'max_depth': [3, 5, 7],\n",
    "                      'n_estimators': [1, 10, 100, 400, 700],\n",
    "                  },\n",
    "                  cv=3,\n",
    "                  scoring='average_precision', n_jobs=-1)\n",
    "searcher.fit(X_train[num_features], y_train)\n",
    "print('Catboost:')\n",
    "print(\"--- %.4f seconds ---\" % (time.time() - start_time))\n",
    "catboost_best_params = searcher.best_params_\n",
    "print('best params:', catboost_best_params)\n",
    "print('best score: %.4f' %  searcher.best_score_)"
   ]
  },
  {
   "cell_type": "markdown",
   "metadata": {},
   "source": [
    "Оптимальное количество алгоритмов для Catboost меньше, чем для LightGBM, как и оптимальная глубина. Также у LightGBM темп обучения на один порядок меньше, чем у CatBoost. При этом LightGBM при оптимальных параметрах по качеству немного превосходит Catboost."
   ]
  },
  {
   "cell_type": "markdown",
   "metadata": {},
   "source": [
    "**Задание 7 (1.5 баллa)**\n",
    "\n",
    "**(1 балл)** Добавьте категориальные признаки к вещественным следующими способами:\n",
    "\n",
    "* как OHE признаки;\n",
    "* как счетчики со сглаживанием.\n",
    "\n",
    "Можно использовать библиотечные реализации; при подсчете счетчиков нельзя использовать циклы.\n",
    "\n",
    "**(0.5 баллa) (?)** Как меняется время, необходимое для обучения моделей в зависимости от способа кодирования? (Параметры можно не подбирать)."
   ]
  },
  {
   "cell_type": "code",
   "execution_count": 30,
   "metadata": {},
   "outputs": [
    {
     "name": "stdout",
     "output_type": "stream",
     "text": [
      "OneHotEncoder\n",
      "--- 3.0392 seconds ---\n",
      "LightGBM:\n",
      "--- 6.1627 seconds ---\n",
      "Test PR-AUC = 0.2285\n",
      "Catboost:\n",
      "--- 117.8191 seconds ---\n",
      "Test PR-AUC = 0.2258\n"
     ]
    }
   ],
   "source": [
    "from sklearn.preprocessing import OneHotEncoder\n",
    "from sklearn.compose import ColumnTransformer\n",
    "from sklearn.pipeline import Pipeline\n",
    "\n",
    "column_transformer = ColumnTransformer([\n",
    "    ('ohe', OneHotEncoder(handle_unknown=\"ignore\"), categorical),\n",
    "    ('num', 'passthrough', num_features)\n",
    "])\n",
    "\n",
    "start_time = time.time()\n",
    "\n",
    "X_train_ohe = column_transformer.fit_transform(X_train)\n",
    "X_test_ohe = column_transformer.transform(X_test)\n",
    "print('OneHotEncoder')\n",
    "print(\"--- %.4f seconds ---\" % (time.time() - start_time))\n",
    "\n",
    "start_time = time.time()\n",
    "clf = LGBMClassifier()\n",
    "clf.fit(X_train_ohe, y_train)\n",
    "y_pred = clf.predict_proba(X_test_ohe)[:, 1]\n",
    "print('LightGBM:')\n",
    "print(\"--- %.4f seconds ---\" % (time.time() - start_time))\n",
    "print(\"Test PR-AUC = %.4f\" % average_precision_score(y_test, y_pred))\n",
    "\n",
    "start_time = time.time()\n",
    "clf = CatBoostClassifier(logging_level='Silent')\n",
    "clf.fit(X_train_ohe, y_train)\n",
    "y_pred = clf.predict_proba(X_test_ohe)[:, 1]\n",
    "print('Catboost:')\n",
    "print(\"--- %.4f seconds ---\" % (time.time() - start_time))\n",
    "print(\"Test PR-AUC = %.4f\" % average_precision_score(y_test, y_pred))"
   ]
  },
  {
   "cell_type": "code",
   "execution_count": 31,
   "metadata": {},
   "outputs": [
    {
     "name": "stdout",
     "output_type": "stream",
     "text": [
      "TargetEncoder\n",
      "--- 5.9735 seconds ---\n",
      "LightGBM:\n",
      "--- 4.5259 seconds ---\n",
      "Test PR-AUC = 0.2331\n",
      "Catboost:\n",
      "--- 66.0684 seconds ---\n",
      "Test PR-AUC = 0.2340\n"
     ]
    }
   ],
   "source": [
    "from category_encoders import TargetEncoder\n",
    "\n",
    "column_transformer = ColumnTransformer([\n",
    "    ('ohe', TargetEncoder(), categorical),\n",
    "    ('num', 'passthrough', num_features)\n",
    "])\n",
    "\n",
    "start_time = time.time()\n",
    "\n",
    "X_train_te = column_transformer.fit_transform(X_train, y_train)\n",
    "X_test_te = column_transformer.transform(X_test)\n",
    "print('TargetEncoder')\n",
    "print(\"--- %.4f seconds ---\" % (time.time() - start_time))\n",
    "\n",
    "start_time = time.time()\n",
    "clf = LGBMClassifier()\n",
    "clf.fit(X_train_te, y_train)\n",
    "y_pred = clf.predict_proba(X_test_te)[:, 1]\n",
    "print('LightGBM:')\n",
    "print(\"--- %.4f seconds ---\" % (time.time() - start_time))\n",
    "print(\"Test PR-AUC = %.4f\" % average_precision_score(y_test, y_pred))\n",
    "\n",
    "start_time = time.time()\n",
    "clf = CatBoostClassifier(logging_level='Silent')\n",
    "clf.fit(X_train_te, y_train)\n",
    "y_pred = clf.predict_proba(X_test_te)[:, 1]\n",
    "print('Catboost:')\n",
    "print(\"--- %.4f seconds ---\" % (time.time() - start_time))\n",
    "print(\"Test PR-AUC = %.4f\" % average_precision_score(y_test, y_pred))"
   ]
  },
  {
   "cell_type": "markdown",
   "metadata": {},
   "source": [
    "Кодирование с использованием счетчиков со сглаживанием работает лучше, как по качеству, так и по времени. При использовании данного способа время обучения уменьшается почти в два раза для двух моделей."
   ]
  },
  {
   "cell_type": "markdown",
   "metadata": {},
   "source": [
    "**Задание 8 (1 балл)**\n",
    "\n",
    "**(0.7 баллa)** Для CatBoost можно не делать ручную обработку категориальных признаков, а подавать как есть. Обучите модель CatBoost, не обрабатывая специально категориальные признаки, замерьте время обучения (параметры возьмите из предыдущего пункта).  \n",
    "\n",
    "**(0.3 баллa) (?)**Сравните с временем обучения модели CatBoost из предыдущего пункта. Как изменилось время? Почему?"
   ]
  },
  {
   "cell_type": "code",
   "execution_count": 32,
   "metadata": {},
   "outputs": [
    {
     "name": "stdout",
     "output_type": "stream",
     "text": [
      "Catboost:\n",
      "--- 104.4835 seconds ---\n",
      "Test PR-AUC = 0.2344\n"
     ]
    }
   ],
   "source": [
    "start_time = time.time()\n",
    "clf = CatBoostClassifier(logging_level='Silent', cat_features=categorical, **catboost_best_params)\n",
    "clf.fit(X_train, y_train)\n",
    "y_pred = clf.predict_proba(X_test)[:, 1]\n",
    "print('Catboost:')\n",
    "print(\"--- %.4f seconds ---\" % (time.time() - start_time))\n",
    "print(\"Test PR-AUC = %.4f\" % average_precision_score(y_test, y_pred))"
   ]
  },
  {
   "cell_type": "markdown",
   "metadata": {},
   "source": [
    "Время обучения значительно увеличилось в силу более сложной обработки категориальных признаков в CatBoost, однако качество незначительно выросло по сравнению с ручной обработкой"
   ]
  },
  {
   "cell_type": "markdown",
   "metadata": {},
   "source": [
    "**Бонус. (1 балл)**\n",
    "\n",
    "**(0.7 баллa)**Подберите оптимальные параметры для LightGBM с вещественными и категориальными признаками (предварительно обработанные каким-нибудь способом). Подберите оптимальные параметры для CatBoost с вещественными и необработанными категориальными признаками. \n",
    "\n",
    "**(0.3 баллa) (?)**Сравните качество моделей на наилучших параметрах. Какой метод получился лучше с точки зрения качества? Совпадает ли результат с вашими ожиданиями?"
   ]
  },
  {
   "cell_type": "code",
   "execution_count": 33,
   "metadata": {},
   "outputs": [
    {
     "name": "stdout",
     "output_type": "stream",
     "text": [
      "Catboost:\n",
      "--- 598.8029 seconds ---\n",
      "best params: {'learning_rate': 0.1, 'max_depth': 3, 'n_estimators': 300}\n",
      "best score: 0.2417\n"
     ]
    }
   ],
   "source": [
    "column_transformer = ColumnTransformer([\n",
    "    ('ohe', TargetEncoder(), categorical),\n",
    "    ('num', 'passthrough', num_features)\n",
    "])\n",
    "\n",
    "X_train_te = column_transformer.fit_transform(X_train, y_train)\n",
    "\n",
    "start_time = time.time()\n",
    "searcher = GridSearchCV(LGBMClassifier(),\n",
    "                  param_grid={\n",
    "                      'max_depth': [3, 5, 7],\n",
    "                      'n_estimators': [100, 300, 500, 700]\n",
    "                  },\n",
    "                  cv=3,\n",
    "                  scoring='average_precision', n_jobs=-1)\n",
    "searcher.fit(X_train_te, y_train)\n",
    "print('Catboost:')\n",
    "print(\"--- %.4f seconds ---\" % (time.time() - start_time))\n",
    "print('best params:', searcher.best_params_)\n",
    "print('best score: %.4f' %  searcher.best_score_)"
   ]
  },
  {
   "cell_type": "code",
   "execution_count": null,
   "metadata": {},
   "outputs": [],
   "source": [
    "start_time = time.time()\n",
    "searcher = GridSearchCV(CatBoostClassifier(logging_level='Silent', cat_features=categorical),\n",
    "                  param_grid={\n",
    "                      'max_depth': [3, 5, 7],\n",
    "                      'n_estimators': [100, 400, 700],\n",
    "                  },\n",
    "                  cv=3,\n",
    "                  scoring='average_precision', n_jobs=-1)\n",
    "searcher.fit(X_train, y_train)\n",
    "print('Catboost:')\n",
    "print(\"--- %.4f seconds ---\" % (time.time() - start_time))\n",
    "print('best params:', searcher.best_params_)\n",
    "print('best score: %.4f' %  searcher.best_score_)"
   ]
  },
  {
   "cell_type": "markdown",
   "metadata": {},
   "source": [
    "LightGBM показывает качество лучше, возможно, в силу большего числа значений параметров для подбора из-за скорости обучения\n",
    "Catboost показывает качество лучше, так как лучше обрабатывает категориальные признаки, однако время его работы значительно дольше, что усложняет подбор гиперпараметров"
   ]
  },
  {
   "cell_type": "markdown",
   "metadata": {},
   "source": [
    "**Бонус (0.2 балла)**\n",
    "\n",
    "Ваш любимый новогодний фильм/сериал/мультик/книга/музыка/развление/ч-т-о-у-г-о-д-н-о\n",
    "\n",
    "Всем мандаринок!&#127818;"
   ]
  },
  {
   "cell_type": "markdown",
   "metadata": {},
   "source": [
    "Люблю мандарины, селедку под шубой и шампанское на новый год\n",
    "\n",
    "А перед ним ходить на каток и в кино на что-нибудь русское и плохо снятое))"
   ]
  }
 ],
 "metadata": {
  "kernelspec": {
   "display_name": "Python 3 (ipykernel)",
   "language": "python",
   "name": "python3"
  },
  "language_info": {
   "codemirror_mode": {
    "name": "ipython",
    "version": 3
   },
   "file_extension": ".py",
   "mimetype": "text/x-python",
   "name": "python",
   "nbconvert_exporter": "python",
   "pygments_lexer": "ipython3",
   "version": "3.10.8"
  }
 },
 "nbformat": 4,
 "nbformat_minor": 2
}
