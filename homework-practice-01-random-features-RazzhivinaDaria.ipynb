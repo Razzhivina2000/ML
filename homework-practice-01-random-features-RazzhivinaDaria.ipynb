{
 "cells": [
  {
   "cell_type": "markdown",
   "metadata": {
    "id": "RYp0bXOFK-hP"
   },
   "source": [
    "# Машинное обучение, ВМК МГУ\n",
    "\n",
    "## Практическое задание 1. Метод опорных векторов и аппроксимация ядер\n",
    "\n",
    "### Общая информация\n",
    "Дата выдачи: 10.02.2022\n",
    "\n",
    "Мягкий дедлайн: 23:30MSK 24.02.2022 **(за каждый день просрочки снимается 1 балл)**\n",
    "\n",
    "Жесткий дедлайн: 23:30MSK 03.03.2022\n",
    "\n",
    "### Оценивание и штрафы\n",
    "Каждая из задач имеет определенную «стоимость» (указана в скобках около задачи). Максимальная оценка за работу — **10 баллов + 4.3 бонусов.**\n",
    "\n",
    "Сдавать задание после указанного жёсткого срока сдачи нельзя. При выставлении неполного балла за задание в связи с наличием ошибок на усмотрение проверяющего предусмотрена возможность исправить работу на указанных в ответном письме условиях.\n",
    "\n",
    "Задание выполняется самостоятельно. «Похожие» решения считаются плагиатом и все задействованные студенты (в том числе те, у кого списали) не могут получить за него больше 0 баллов (подробнее о плагиате см. на странице курса). Если вы нашли решение какого-то из заданий (или его часть) в открытом источнике, необходимо указать ссылку на этот источник в отдельном блоке в конце вашей работы (скорее всего вы будете не единственным, кто это нашел, поэтому чтобы исключить подозрение в плагиате, необходима ссылка на источник).\n",
    "\n",
    "Неэффективная реализация кода может негативно отразиться на оценке.\n",
    "\n",
    "### Формат сдачи\n",
    "Задания сдаются через систему anytask. Посылка должна содержать:\n",
    "   * Ноутбук homework-practice-01-random-features-Username.ipynb\n",
    "\n",
    "Username — ваша фамилия и имя на латинице именно в таком порядке\n",
    "\n",
    "### А также..\n",
    "\n",
    "* Для удобства поиска вопросов, на которые от вас просят ответа, мы пометили их знаком **(?)**\n",
    "* Знак **(!)** означает, что выполнение замечания необходимо для **возможности получения полного балла**\n",
    "* Даем до +0.3 баллов за выдающиеся успехи по субъективному мнению проверяющих. Этот **бонус** не апеллируется"
   ]
  },
  {
   "cell_type": "markdown",
   "metadata": {},
   "source": [
    "<p style=\"color:#de3815;font-size:25px;\">\n",
    "Напоминание об оформлении и выполнении ноутбука\n",
    "</p>"
   ]
  },
  {
   "cell_type": "markdown",
   "metadata": {},
   "source": [
    "* Все строчки должны быть выполнены. Нужно, чтобы output команды можно было увидеть, не запуская ячейки (кроме редких случаев, когда необходимо намеренно скрыть ненужный output, про такие случаи желательно писать пояснения в тексте). **В противном случае -1 балл**\n",
    "* При оформлении ДЗ нужно пользоваться данным файлом в качестве шаблона. Не нужно удалять и видоизменять написанный код и текст, если явно не указана такая возможность. **В противном случае -1 балл**\n",
    "* В anytask обязательно нужно прикреплять отдельно файл с расширением ipynb (не в архиве, а именно отдельно). Если необходимо отправить еще какие-то файлы, то вынесите их в отдельный архив (если файлов много) и пришлите. **В противном случае -0.5 балла**\n",
    "---\n",
    "* Пишите, пожалуйста, выводы и ответы на вопросы в текстовых ячейках/при помощи print в коде. При их отсутствии мы не можем понять, сделали ли вы задание и понимаете, что происходит, и **поэтому будем снижать баллы**\n",
    "* Если алгоритм не сказано реализовывать явно, его всегда можно импортировать из библиотеки.\n",
    "---\n",
    "* Про графики. _Штрафы будут применяться к каждому результату команды отображения графика (plt.show() и др. аналогичные). Исключением являются графики, генерируемые функциями каких-либо сторонних библиотек, если их нельзя кастомизировать_\n",
    "\n",
    "    * должно быть название (plt.title) графика; **В противном случае &ndash; -0.05 балла**\n",
    "    * на графиках должны быть подписаны оси (plt.xlabel, plt.ylabel); **В противном случае &ndash; -0.025 балла за каждую ось**\n",
    "    * должны быть подписаны единицы измерения (если это возможно); **В противном случае &ndash; -0.025 балла за каждую ось**\n",
    "    * все названия должны быть понятны любому человеку, знакомому с терминологией, без заглядывания в код; **В противном случае &ndash; -0.05 балла**\n",
    "    * подписи тиков на осях не должны сливаться как на одной оси, так и между ними; **В противном случае &ndash; -0.025 балла за каждую ось**\n",
    "    * если изображено несколько сущностей на одном холсте (например несколько функций), то необходима поясняющая легенда (plt.legend); **В противном случае &ndash; -0.05 балла**\n",
    "    * все линии на графиках должны быть чётко видны (нет похожих цветов или цветов, сливающихся с фоном); **В противном случае &ndash; -0.05 балла**\n",
    "    * если отображена величина, имеющая очевидный диапазон значений (например, проценты могут быть от 0 до 100), то желательно масштабировать ось на весь диапазон значений (исключением является случай, когда вам необходимо показать малое отличие, которое незаметно в таких масштабах);\n",
    "    * графики должны быть не супер-микро и не супер-макро по размерам, так, чтобы можно было увидеть все, что нужно.\n",
    "    * при необходимости улучшения наглядности графиков, можно пользоваться логарифмической шкалой по осям x/y.\n",
    "    "
   ]
  },
  {
   "cell_type": "markdown",
   "metadata": {
    "id": "vY8vT0W_K-hR"
   },
   "source": [
    "### О задании\n",
    "\n",
    "На занятиях мы подробно обсуждали метод опорных векторов (SVM). В базовой версии в нём нет чего-то особенного — мы всего лишь используем специальную функцию потерь, которая не требует устремлять отступы к бесконечности; ей достаточно, чтобы отступы были не меньше +1. Затем мы узнали, что SVM можно переписать в двойственном виде, который, позволяет заменить скалярные произведения объектов на ядра. Это будет соответствовать построению модели в новом пространстве более высокой размерности, координаты которого представляют собой нелинейные модификации исходных признаков.\n",
    "\n",
    "Ядровой SVM, к сожалению, довольно затратен по памяти (нужно хранить матрицу Грама размера $d \\times d$) и по времени (нужно решать задачу условной оптимизации с квадратичной функцией, а это не очень быстро). Мы обсуждали, что есть способы посчитать новые признаки $\\tilde \\varphi(x)$ на основе исходных так, что скалярные произведения этих новых $\\langle \\tilde \\varphi(x), \\tilde \\varphi(z) \\rangle$ приближают ядро $K(x, z)$.\n",
    "\n",
    "Мы будем исследовать аппроксимации методом **Random Fourier Features (RFF, также в литературе встречается название Random Kitchen Sinks)** для гауссовых ядер. Будем использовать формулы, которые немного отличаются от того, что было на лекциях (мы добавим сдвиги внутрь тригонометрических функций и будем использовать только косинусы, потому что с нужным сдвигом косинус превратится в синус):\n",
    "$$\\tilde \\varphi(x) = (\n",
    "\\cos (w_1^T x + b_1),\n",
    "\\dots,\n",
    "\\cos (w_n^T x + b_n)\n",
    "),$$\n",
    "где $w_j \\sim \\mathcal{N}(0, 1/\\sigma^2)$, $b_j \\sim U[-\\pi, \\pi]$, где\n",
    "\n",
    "$1/\\sigma^2$ --- **дисперсия распределения.**\n",
    "\n",
    "На новых признаках $\\tilde \\varphi(x)$ мы будем строить любую линейную модель.\n",
    "\n",
    "Можно считать, что это некоторая новая парадигма построения сложных моделей. Можно направленно искать сложные нелинейные закономерности в данных с помощью градиентного бустинга или нейронных сетей, а можно просто нагенерировать большое количество случайных нелинейных признаков и надеяться, что быстрая и простая модель (то есть линейная) сможет показать на них хорошее качество. В этом задании мы изучим, насколько работоспособна такая идея.\n",
    "\n",
    "### Алгоритм\n",
    "\n",
    "Вам потребуется реализовать следующий алгоритм:\n",
    "1. Понизить размерность выборки до new_dim с помощью метода главных компонент.\n",
    "\n",
    "2. Для полученной выборки оценить гиперпараметр $\\sigma^2$ с помощью эвристики (рекомендуем считать медиану не по всем парам объектов, а по случайному подмножеству из где-то миллиона пар объектов): $$\\sigma^2 = \\text{median}_{i, j = 1, \\dots, \\ell, i \\neq j} \\left\\{\\sum_{k = 1}^{d} (x_{ik} - x_{jk})^2 \\right\\}$$\n",
    "**Замечание:** обратите внимание на  $i \\neq j$, без этого оценка медианы может быть смещена, а также без этого будут сниматься баллы.\n",
    "\n",
    "3. Сгенерировать n_features наборов весов $w_j$ и сдвигов $b_j$.\n",
    "\n",
    "4. Сформировать n_features новых признаков по формулам, приведённым выше.\n",
    "\n",
    "5. Обучить линейную модель (логистическую регрессию или SVM) на новых признаках.\n",
    "\n",
    "6. Повторить преобразования (PCA, формирование новых признаков) к тестовой выборке и применить модель."
   ]
  },
  {
   "cell_type": "code",
   "execution_count": 1,
   "metadata": {},
   "outputs": [],
   "source": [
    "### Для игнорирования предупреждений \n",
    "import warnings\n",
    "warnings.filterwarnings('ignore')"
   ]
  },
  {
   "cell_type": "markdown",
   "metadata": {},
   "source": [
    "**Напоминание:**\n",
    "    \n",
    "* Все ваши графики должны быть **\"красивыми\"** --- подробнее о том, как их оформлять, можно найти в первом практическом задании. При несоответствии какиму-то из критериев вам могут снять баллы.\n",
    "* Пишите в текстовых ячейках/print в коде ответы на **все вопросы из заданий/просьбы сделать выводы** --- при их отсутствии мы не можем понять, сделали ли вы задание и понимаете, что происходит, и поэтому будем снижать баллы"
   ]
  },
  {
   "cell_type": "markdown",
   "metadata": {
    "id": "N_sGunb7K-hS"
   },
   "source": [
    "Тестировать алгоритм мы будем на данных Fashion MNIST. Ниже код для их загрузки и подготовки."
   ]
  },
  {
   "cell_type": "code",
   "execution_count": 2,
   "metadata": {
    "ExecuteTime": {
     "end_time": "2021-03-05T17:27:31.242377Z",
     "start_time": "2021-03-05T17:27:30.500833Z"
    },
    "id": "YyG6dBfjK-hS"
   },
   "outputs": [
    {
     "name": "stderr",
     "output_type": "stream",
     "text": [
      "2023-02-25 18:56:47.186592: I tensorflow/core/platform/cpu_feature_guard.cc:193] This TensorFlow binary is optimized with oneAPI Deep Neural Network Library (oneDNN) to use the following CPU instructions in performance-critical operations:  AVX2 FMA\n",
      "To enable them in other operations, rebuild TensorFlow with the appropriate compiler flags.\n"
     ]
    }
   ],
   "source": [
    "import keras\n",
    "from keras.datasets import fashion_mnist\n",
    "(x_train_pics, y_train), (x_test_pics, y_test) = fashion_mnist.load_data()\n",
    "x_train = x_train_pics.reshape(x_train_pics.shape[0], -1)\n",
    "x_test = x_test_pics.reshape(x_test_pics.shape[0], -1)"
   ]
  },
  {
   "cell_type": "markdown",
   "metadata": {},
   "source": [
    "**ВАЖНОЕ ЗАМЕЧАНИЕ:**\n",
    "\n",
    "Датасет по умолчанию хранится в типе 'uint8', вследствие чего при ручном подсчете дисперсии переменные переполняются и вы получаете неадекватные результаты. Бороться с этим можно преобразованием исходных данных к типу 'float'. Еще один хороший вариант &ndash; использовать специализированные функции из библиотек numpy / scipy и, в частности, **scipy.spatial.distance_matrix**.\n",
    "\n",
    "Ниже приводим подтверждающий пример."
   ]
  },
  {
   "cell_type": "code",
   "execution_count": 3,
   "metadata": {
    "ExecuteTime": {
     "end_time": "2021-03-05T17:40:50.990485Z",
     "start_time": "2021-03-05T17:40:50.949509Z"
    }
   },
   "outputs": [
    {
     "name": "stdout",
     "output_type": "stream",
     "text": [
      "8878152.0\n",
      "55161.0\n"
     ]
    }
   ],
   "source": [
    "import numpy as np\n",
    "\n",
    "indices = np.random.choice(x_train.shape[0], size=2000)\n",
    "print(np.median(np.sum((x_train[indices[:1000]].astype(float) - x_train[indices[1000:]]).astype(float) ** 2, axis=1)))\n",
    "\n",
    "print(np.median(np.sum((x_train[indices[:1000]] - x_train[indices[1000:]]) ** 2, axis=1)))"
   ]
  },
  {
   "cell_type": "markdown",
   "metadata": {
    "id": "rJNN55F7K-hT"
   },
   "source": [
    "__Задание 1. (5 баллов)__\n",
    "\n",
    "**А) (4 балла)** Реализуйте алгоритм, описанный выше. Можете воспользоваться шаблоном класса ниже или написать свой интерфейс.\n",
    "\n",
    "Ваша реализация должна поддерживать следующие опции:\n",
    "1. Возможность задавать значения параметров new_dim (по умолчанию 50) и n_features (по умолчанию 1000).\n",
    "2. Возможность включать или выключать предварительное понижение размерности с помощью метода главных компонент.\n",
    "3. Возможность выбирать тип линейной модели (логистическая регрессия или SVM с линейным ядром).\n",
    "\n",
    "\n",
    "**Важно (!)**\n",
    "* Так как мы работаем с линейными моделями, вам необходимо делать нормализацию данных.\n",
    "* Оценка гиперпраметра распределения и построение нового датасета должны быть без питоновских циклов (можно все запрограммировать векторно, используя numpy)\n",
    "\n",
    "**Б) (1 балл)** Протестируйте на данных Fashion MNIST, сформированных кодом выше. Если на тесте у вас получилась доля верных ответов **не ниже 0.84 с параметрами по умолчанию**, то вы всё сделали правильно.\n",
    "\n",
    "**Подсказка**\n",
    "* Использование метода без PCA и без нормализации признаков перед генерацией весов может дать неожиданные результаты. Сами подумайте, почему так может происходить :)"
   ]
  },
  {
   "cell_type": "code",
   "execution_count": 4,
   "metadata": {
    "id": "jP8yepx8K-hT"
   },
   "outputs": [],
   "source": [
    "from sklearn.base import BaseEstimator, TransformerMixin\n",
    "from sklearn.decomposition import PCA\n",
    "from sklearn.preprocessing import StandardScaler, FunctionTransformer\n",
    "from scipy.spatial import distance_matrix\n",
    "from sklearn.svm import SVC\n",
    "from sklearn.linear_model import LogisticRegression\n",
    "\n",
    "\n",
    "class RFFPipeline(BaseEstimator, TransformerMixin):\n",
    "    def __init__(self, n_features=1000, new_dim=50, use_PCA=True, classifier='logreg'):\n",
    "        \"\"\"        \n",
    "        Implements pipeline, which consists of PCA decomposition,\n",
    "        Random Fourier Features approximation and linear classification model.\n",
    "        \n",
    "        n_features, int: amount of synthetic random features generated with RFF approximation.\n",
    "\n",
    "        new_dim, int: PCA output size.\n",
    "        \n",
    "        use_PCA, bool: whether to include PCA preprocessing.\n",
    "        \n",
    "        classifier, string: either 'svm' or 'logreg', a linear classification model to use on top of pipeline.\n",
    "        \n",
    "        Feel free to edit this template for your preferences.    \n",
    "        \"\"\"\n",
    "        self.n_features = n_features\n",
    "        self.use_PCA = use_PCA\n",
    "        self.new_dim = new_dim\n",
    "        self.classifier = classifier\n",
    "        \n",
    "    def fit(self, X, y):\n",
    "        \"\"\"\n",
    "        Fit all parts of algorithm (PCA, RFF, Classification) to training set.\n",
    "        \"\"\"\n",
    "        self.scaler = StandardScaler()\n",
    "        X = self.scaler.fit_transform(X)\n",
    "        \n",
    "        if self.use_PCA:\n",
    "            self.pca = PCA(n_components=self.new_dim)\n",
    "            X = self.pca.fit_transform(X)\n",
    "        \n",
    "        idx1 = np.random.choice(x_train.shape[0], 1000, replace=False)\n",
    "        idx2 = np.random.choice(x_train.shape[0], 1000, replace=False)\n",
    "        mask = (distance_matrix(idx1[:,np.newaxis], idx2[:,np.newaxis]) != 0)\n",
    "        var = np.median(distance_matrix(X[idx1], X[idx2])[mask])\n",
    "        w = np.random.normal(0, 1 / var, (X.shape[1], self.n_features))\n",
    "        b = np.random.uniform(-np.pi, np.pi, self.n_features)\n",
    "        self.RFF = FunctionTransformer(lambda x: np.cos(np.dot(x, w) + b))\n",
    "        X = self.RFF.transform(X)\n",
    "        \n",
    "        if self.classifier == 'svm':\n",
    "            self.model = SVC(kernel='linear')\n",
    "        if self.classifier == 'logreg':\n",
    "            self.model = LogisticRegression(n_jobs=1)\n",
    "        self.model.fit(X, y)\n",
    "            \n",
    "        return self\n",
    "\n",
    "    def predict_proba(self, X):\n",
    "        \"\"\"\n",
    "        Apply pipeline to obtain scores for input data.\n",
    "        \"\"\"\n",
    "        X = self.scaler.transform(X) \n",
    "        \n",
    "        if self.use_PCA:\n",
    "            X = self.pca.transform(X)\n",
    "            \n",
    "        X = self.RFF.transform(X)\n",
    "        \n",
    "        return self.model.predict_proba(X)\n",
    "        \n",
    "    def predict(self, X):\n",
    "        \"\"\"\n",
    "        Apply pipeline to obtain discrete predictions for input data.\n",
    "        \"\"\"\n",
    "        X = self.scaler.transform(X) \n",
    "        \n",
    "        if self.use_PCA:\n",
    "            X = self.pca.transform(X)\n",
    "             \n",
    "        X = self.RFF.transform(X)\n",
    "        \n",
    "        return self.model.predict(X)"
   ]
  },
  {
   "cell_type": "code",
   "execution_count": 5,
   "metadata": {},
   "outputs": [
    {
     "name": "stdout",
     "output_type": "stream",
     "text": [
      "Train:  0.8690333333333333\n",
      "Test:  0.8559\n"
     ]
    }
   ],
   "source": [
    "pipeline = RFFPipeline()\n",
    "pipeline.fit(x_train.astype(float), y_train)\n",
    "print('Train: ', (pipeline.predict(x_train.astype(float)) == y_train).mean())\n",
    "print('Test: ', (pipeline.predict(x_test.astype(float)) == y_test).mean())"
   ]
  },
  {
   "cell_type": "markdown",
   "metadata": {
    "id": "HYqQUEi-K-hU"
   },
   "source": [
    "__Задание 2. (3 балла)__\n",
    "\n",
    "_**(?)** Сравните следующие подходы: **(2.5 балла)**_\n",
    "\n",
    "**Подход со случайными признаками = использование RFFPipeline**\n",
    "\n",
    "* 1) Подход со случайными признаками c типом модели = логистическая регрессия vs обучение линейного SVM на исходных признаках.\n",
    "* 2) Подход со случайными признаками c типом модели = линейный SVM  vs обучение линейного SVM на исходных признаках.\n",
    "* 3) Подход со случайными признаками c типом модели = логистическая регрессия vs обучение ядрового SVM на исходных признаках.\n",
    "* 4) Подход со случайными признаками c типом модели = линейный SVM vs обучение ядрового SVM на исходных признаках.\n",
    "* 5) Подход со случайными признаками c типом модели = логистическая регрессия vs вариант, в котором вы понижаете размерность с помощью PCA и обучаете градиентный бустинг. Используйте одну из реализаций CatBoost/LightGBM/XGBoost\n",
    "* 6) Подход со случайными признаками c типом модели = линейный SVM vs вариант, в котором вы понижаете размерность с помощью PCA и обучаете градиентный бустинг. Используйте одну из реализаций CatBoost/LightGBM/XGBoost\n",
    " * 5, 6) **Не забудьте** в этих случаях подобрать число деревьев и длину шага -- здесь, в ноутбуке!\n",
    "\n",
    "_Сделайте выводы: **(0.5 баллов)**_\n",
    "* **(?)** Насколько идея со случайными признаками работает?\n",
    "* **(?)** Сравните как с точки зрения качества, так и с точки зрения скорости обучения и применения.\n",
    "\n",
    "**Важные замечания**\n",
    "* Подход по случайными признаками тестируйте в двух вариантах линейной модели. То есть у вас должно получиться всего 6 пар сравнений.\n",
    "* В подходе со случайными признаками в этом задании можно оставиь все параметры, кроме типа модели, по умолчанию.\n",
    "---\n",
    "* Ядровой SVM может очень долго обучаться, поэтому можно делать любые разумные вещи для ускорения: брать подмножество объектов из обучающей выборки, например.\n",
    "* Если вы решили брать подвыборку для какого-то сравнения, то следите за тем, чтобы оба метода обучались на **одинаковом датасете**. Например, сравнивать подход со случайными признаками, обучая его на всем датасете, против ядрового SVM на подвыборке -- некорректно. Тестирование так же должно происходить на одинаковом датасете.\n",
    "* **(!)** Можно в начале этой секции выделить подвыборку и использовать ее для всех экспериментов, если вам это удобно. Необходимо оставить в таком случае хотя бы 10000 объектов. **За меньшее число будут сниматься баллы**\n",
    "---\n",
    "* При сравнении по времени не забывайте смотреть, во сколько потоков реализован алгоритм. Например, сравнивать алгоритм, с параметром n_jobs=-1 (задействовать все возможные потоки) с однопоточным алгоритмом по времени будет некорректно\n",
    "* Если **неуверены**, корректны ли ваши сравнения по времени, поставьте везде n_jobs=1 \n",
    "* Замеряйте время не только обучения, но и обучения + препроцессинга, если он есть (считайте, что формирование признаков в подходе со случайными признаками входит в понятие алгоритма). Так вы сможете более точно проанализировать временные характеристики подходов. \n",
    "---\n",
    "* Переберите хотя бы 10 различных значений количества деревьев (в разумных пределах и с разумным шагом), хотя бы 5 значений параметра learning rate (по логарифмической шкале). Если не знаете, в каких пределах пребирать, то можно найти материалы по соответствующим градиентным бустингам с разбором того, как обычно параметры перебирают.\n",
    "* Перед использованием линейного подхода необходимо нормализовывать признаки (это обычная практика при применении линейных методов, как вы знаете)\n",
    "* Отображать результаты лучше всего будет в виде таблички (pandas DataFrame например), где отображены результаты как  качеств всех алгоритмов, так и времена работы. Можно использовать графическое отображение через bar_plot. Можно также текстом.\n",
    "---\n",
    "* **(!)** Здесь и далее нигде не должно быть сильных просадок по качеству. То есть, если вы получили где-то качество 0.2/0.3/0.4 итд --- это повод задуматься, что где-то у вас есть бага. Во всех экспериментах мы ожидаем качество на тесте не ниже 0.75. **За меньшее качество будут сниматься баллы**"
   ]
  },
  {
   "cell_type": "code",
   "execution_count": 6,
   "metadata": {
    "id": "qN8LUlJgK-hV"
   },
   "outputs": [
    {
     "data": {
      "text/html": [
       "<div>\n",
       "<style scoped>\n",
       "    .dataframe tbody tr th:only-of-type {\n",
       "        vertical-align: middle;\n",
       "    }\n",
       "\n",
       "    .dataframe tbody tr th {\n",
       "        vertical-align: top;\n",
       "    }\n",
       "\n",
       "    .dataframe thead th {\n",
       "        text-align: right;\n",
       "    }\n",
       "</style>\n",
       "<table border=\"1\" class=\"dataframe\">\n",
       "  <thead>\n",
       "    <tr style=\"text-align: right;\">\n",
       "      <th></th>\n",
       "      <th>Train accuracy</th>\n",
       "      <th>Test accuracy</th>\n",
       "      <th>Time</th>\n",
       "    </tr>\n",
       "  </thead>\n",
       "  <tbody>\n",
       "    <tr>\n",
       "      <th>RFF (logreg)</th>\n",
       "      <td>NaN</td>\n",
       "      <td>NaN</td>\n",
       "      <td>NaN</td>\n",
       "    </tr>\n",
       "    <tr>\n",
       "      <th>RFF (svm)</th>\n",
       "      <td>NaN</td>\n",
       "      <td>NaN</td>\n",
       "      <td>NaN</td>\n",
       "    </tr>\n",
       "    <tr>\n",
       "      <th>SVC (linear)</th>\n",
       "      <td>NaN</td>\n",
       "      <td>NaN</td>\n",
       "      <td>NaN</td>\n",
       "    </tr>\n",
       "    <tr>\n",
       "      <th>SVC (rbf)</th>\n",
       "      <td>NaN</td>\n",
       "      <td>NaN</td>\n",
       "      <td>NaN</td>\n",
       "    </tr>\n",
       "    <tr>\n",
       "      <th>PCA + LightGBM</th>\n",
       "      <td>NaN</td>\n",
       "      <td>NaN</td>\n",
       "      <td>NaN</td>\n",
       "    </tr>\n",
       "  </tbody>\n",
       "</table>\n",
       "</div>"
      ],
      "text/plain": [
       "               Train accuracy Test accuracy Time\n",
       "RFF (logreg)              NaN           NaN  NaN\n",
       "RFF (svm)                 NaN           NaN  NaN\n",
       "SVC (linear)              NaN           NaN  NaN\n",
       "SVC (rbf)                 NaN           NaN  NaN\n",
       "PCA + LightGBM            NaN           NaN  NaN"
      ]
     },
     "execution_count": 6,
     "metadata": {},
     "output_type": "execute_result"
    }
   ],
   "source": [
    "import pandas as pd\n",
    "import time\n",
    "\n",
    "df = pd.DataFrame(columns=['Train accuracy', 'Test accuracy', 'Time'], index=['RFF (logreg)', 'RFF (svm)', 'SVC (linear)', 'SVC (rbf)', 'PCA + LightGBM'])\n",
    "df"
   ]
  },
  {
   "cell_type": "code",
   "execution_count": 7,
   "metadata": {},
   "outputs": [],
   "source": [
    "idx = np.random.choice(x_train.shape[0], 10000, replace=False)\n",
    "x_train = x_train[idx]\n",
    "y_train = y_train[idx]"
   ]
  },
  {
   "cell_type": "code",
   "execution_count": 8,
   "metadata": {},
   "outputs": [
    {
     "name": "stdout",
     "output_type": "stream",
     "text": [
      "RFF (logreg)\n",
      "--- 12.4785 seconds ---\n",
      "Train:  0.8903\n",
      "Test:  0.8438\n"
     ]
    }
   ],
   "source": [
    "print('RFF (logreg)')\n",
    "\n",
    "pipeline = RFFPipeline(classifier='logreg')\n",
    "start_time = time.time()\n",
    "pipeline.fit(x_train.astype(float), y_train)\n",
    "all_time = time.time() - start_time\n",
    "test_acc = (pipeline.predict(x_test.astype(float)) == y_test).mean()\n",
    "train_acc = (pipeline.predict(x_train.astype(float)) == y_train).mean()\n",
    "\n",
    "df['Train accuracy']['RFF (logreg)'] = train_acc\n",
    "df['Test accuracy']['RFF (logreg)'] = test_acc\n",
    "df['Time']['RFF (logreg)'] = all_time\n",
    "\n",
    "print(\"--- %.4f seconds ---\" % all_time)\n",
    "print('Train: ', train_acc )\n",
    "print('Test: ', test_acc)"
   ]
  },
  {
   "cell_type": "code",
   "execution_count": 9,
   "metadata": {},
   "outputs": [
    {
     "name": "stdout",
     "output_type": "stream",
     "text": [
      "RFF (svm)\n",
      "--- 24.0041 seconds ---\n",
      "Train:  0.9523\n",
      "Test:  0.8445\n"
     ]
    }
   ],
   "source": [
    "print('RFF (svm)')\n",
    "\n",
    "pipeline = RFFPipeline(classifier='svm')\n",
    "start_time = time.time()\n",
    "pipeline.fit(x_train.astype(float), y_train)\n",
    "all_time = time.time() - start_time\n",
    "test_acc = (pipeline.predict(x_test.astype(float)) == y_test).mean()\n",
    "train_acc = (pipeline.predict(x_train.astype(float)) == y_train).mean()\n",
    "\n",
    "df['Train accuracy']['RFF (svm)'] = train_acc\n",
    "df['Test accuracy']['RFF (svm)'] = test_acc\n",
    "df['Time']['RFF (svm)'] = all_time\n",
    "\n",
    "print(\"--- %.4f seconds ---\" % all_time)\n",
    "print('Train: ', train_acc )\n",
    "print('Test: ', test_acc)"
   ]
  },
  {
   "cell_type": "code",
   "execution_count": 10,
   "metadata": {},
   "outputs": [
    {
     "name": "stdout",
     "output_type": "stream",
     "text": [
      "SVC (linear)\n",
      "--- 21.7341 seconds ---\n",
      "Train:  0.9896\n",
      "Test:  0.7974\n"
     ]
    }
   ],
   "source": [
    "print('SVC (linear)')\n",
    "\n",
    "scaler = StandardScaler()\n",
    "model = SVC(kernel='linear')\n",
    "start_time = time.time()\n",
    "X_train = scaler.fit_transform(x_train)\n",
    "model.fit(X_train, y_train)\n",
    "            \n",
    "all_time = time.time() - start_time\n",
    "X_test = scaler.transform(x_test)\n",
    "test_acc = (model.predict(X_test.astype(float)) == y_test).mean()\n",
    "train_acc = (model.predict(X_train.astype(float)) == y_train).mean()\n",
    "\n",
    "df['Train accuracy']['SVC (linear)'] = train_acc\n",
    "df['Test accuracy']['SVC (linear)'] = test_acc\n",
    "df['Time']['SVC (linear)'] = all_time\n",
    "\n",
    "print(\"--- %.4f seconds ---\" % all_time)\n",
    "print('Train: ', train_acc )\n",
    "print('Test: ', test_acc)"
   ]
  },
  {
   "cell_type": "code",
   "execution_count": 11,
   "metadata": {},
   "outputs": [
    {
     "name": "stdout",
     "output_type": "stream",
     "text": [
      "SVC (rbf)\n",
      "--- 26.5138 seconds ---\n",
      "Train:  0.9146\n",
      "Test:  0.8503\n"
     ]
    }
   ],
   "source": [
    "print('SVC (rbf)')\n",
    "\n",
    "scaler = StandardScaler()\n",
    "model = SVC(kernel='rbf')\n",
    "start_time = time.time()\n",
    "X_train = scaler.fit_transform(x_train)\n",
    "model.fit(X_train, y_train)\n",
    "            \n",
    "all_time = time.time() - start_time\n",
    "X_test = scaler.transform(x_test)\n",
    "test_acc = (model.predict(X_test.astype(float)) == y_test).mean()\n",
    "train_acc = (model.predict(X_train.astype(float)) == y_train).mean()\n",
    "\n",
    "df['Train accuracy']['SVC (rbf)'] = train_acc\n",
    "df['Test accuracy']['SVC (rbf)'] = test_acc\n",
    "df['Time']['SVC (rbf)'] = all_time\n",
    "\n",
    "print(\"--- %.4f seconds ---\" % all_time)\n",
    "print('Train: ', train_acc )\n",
    "print('Test: ', test_acc)"
   ]
  },
  {
   "cell_type": "code",
   "execution_count": 12,
   "metadata": {},
   "outputs": [],
   "source": [
    "from sklearn.model_selection import GridSearchCV\n",
    "from lightgbm import LGBMClassifier"
   ]
  },
  {
   "cell_type": "code",
   "execution_count": 13,
   "metadata": {},
   "outputs": [
    {
     "name": "stdout",
     "output_type": "stream",
     "text": [
      "LightGBM:\n",
      "--- 1162.5951 seconds ---\n",
      "best params: {'learning_rate': 0.1, 'n_estimators': 500}\n",
      "best score: 0.8485\n"
     ]
    }
   ],
   "source": [
    "pca = PCA(n_components=50)\n",
    "X_train = pca.fit_transform(X_train)\n",
    "X_test = pca.transform(X_test)\n",
    "\n",
    "start_time = time.time()\n",
    "searcher = GridSearchCV(LGBMClassifier(),\n",
    "                  param_grid={\n",
    "                      'learning_rate': np.logspace(-4, 0, 5),\n",
    "                      'n_estimators': [1, 2, 5, 10, 20, 50, 100, 200, 500, 1000]\n",
    "                  },\n",
    "                  cv=3,\n",
    "                  scoring='accuracy', n_jobs=-1)\n",
    "searcher.fit(X_train, y_train)\n",
    "print('LightGBM:')\n",
    "print(\"--- %.4f seconds ---\" % (time.time() - start_time))\n",
    "lightgbm_best_params = searcher.best_params_\n",
    "print('best params:', lightgbm_best_params)\n",
    "print('best score: %.4f' % searcher.best_score_)"
   ]
  },
  {
   "cell_type": "code",
   "execution_count": 14,
   "metadata": {},
   "outputs": [
    {
     "name": "stdout",
     "output_type": "stream",
     "text": [
      "PCA + LightGBM\n",
      "--- 29.8273 seconds ---\n",
      "Train:  1.0\n",
      "Test:  0.8471\n"
     ]
    }
   ],
   "source": [
    "print('PCA + LightGBM')\n",
    "model = LGBMClassifier(**lightgbm_best_params, n_jobs=1)\n",
    "start_time = time.time()\n",
    "model.fit(X_train, y_train)\n",
    "\n",
    "all_time = time.time() - start_time\n",
    "test_acc = (model.predict(X_test.astype(float)) == y_test).mean()\n",
    "train_acc = (model.predict(X_train.astype(float)) == y_train).mean()\n",
    "\n",
    "df['Train accuracy']['PCA + LightGBM'] = train_acc\n",
    "df['Test accuracy']['PCA + LightGBM'] = test_acc\n",
    "df['Time']['PCA + LightGBM'] = all_time\n",
    "\n",
    "print(\"--- %.4f seconds ---\" % all_time)\n",
    "print('Train: ', train_acc )\n",
    "print('Test: ', test_acc)"
   ]
  },
  {
   "cell_type": "code",
   "execution_count": 15,
   "metadata": {},
   "outputs": [
    {
     "data": {
      "text/html": [
       "<div>\n",
       "<style scoped>\n",
       "    .dataframe tbody tr th:only-of-type {\n",
       "        vertical-align: middle;\n",
       "    }\n",
       "\n",
       "    .dataframe tbody tr th {\n",
       "        vertical-align: top;\n",
       "    }\n",
       "\n",
       "    .dataframe thead th {\n",
       "        text-align: right;\n",
       "    }\n",
       "</style>\n",
       "<table border=\"1\" class=\"dataframe\">\n",
       "  <thead>\n",
       "    <tr style=\"text-align: right;\">\n",
       "      <th></th>\n",
       "      <th>Train accuracy</th>\n",
       "      <th>Test accuracy</th>\n",
       "      <th>Time</th>\n",
       "    </tr>\n",
       "  </thead>\n",
       "  <tbody>\n",
       "    <tr>\n",
       "      <th>RFF (logreg)</th>\n",
       "      <td>0.8903</td>\n",
       "      <td>0.8438</td>\n",
       "      <td>12.478484</td>\n",
       "    </tr>\n",
       "    <tr>\n",
       "      <th>RFF (svm)</th>\n",
       "      <td>0.9523</td>\n",
       "      <td>0.8445</td>\n",
       "      <td>24.004149</td>\n",
       "    </tr>\n",
       "    <tr>\n",
       "      <th>SVC (linear)</th>\n",
       "      <td>0.9896</td>\n",
       "      <td>0.7974</td>\n",
       "      <td>21.7341</td>\n",
       "    </tr>\n",
       "    <tr>\n",
       "      <th>SVC (rbf)</th>\n",
       "      <td>0.9146</td>\n",
       "      <td>0.8503</td>\n",
       "      <td>26.513826</td>\n",
       "    </tr>\n",
       "    <tr>\n",
       "      <th>PCA + LightGBM</th>\n",
       "      <td>1.0</td>\n",
       "      <td>0.8471</td>\n",
       "      <td>29.827333</td>\n",
       "    </tr>\n",
       "  </tbody>\n",
       "</table>\n",
       "</div>"
      ],
      "text/plain": [
       "               Train accuracy Test accuracy       Time\n",
       "RFF (logreg)           0.8903        0.8438  12.478484\n",
       "RFF (svm)              0.9523        0.8445  24.004149\n",
       "SVC (linear)           0.9896        0.7974    21.7341\n",
       "SVC (rbf)              0.9146        0.8503  26.513826\n",
       "PCA + LightGBM            1.0        0.8471  29.827333"
      ]
     },
     "execution_count": 15,
     "metadata": {},
     "output_type": "execute_result"
    }
   ],
   "source": [
    "df"
   ]
  },
  {
   "cell_type": "markdown",
   "metadata": {},
   "source": [
    "**1) RFFPipeline c логистической регрессией vs линейный SVM**\n",
    "\n",
    "Подход со случайными признаками лучше линейного SVM как по времени (почти в 2 раза), так и по точности на тесте. Видно, что линейный SVM переобучается.\n",
    "\n",
    "**2) RFFPipeline c SVM vs линейный SVM**\n",
    "\n",
    "Подход со случайными признаками лучше линейного SVM как по времени (незначительно), так и по точности на тесте. За счет перехода в новое пространство подход со случайными признаками смог лучше найти зависимости в данных.\n",
    "\n",
    "**3) RFFPipeline c логистической регрессией vs ядровой SVM**\n",
    "\n",
    "Подход со случайными признаками позволяет достичь чуть меньшего качества, чем ядровой SVM, но работает значительно быстрее.\n",
    "\n",
    "**4) RFFPipeline c SVM vs ядровой SVM**\n",
    "\n",
    "Методы достаточно близки по точности, но ядровой SVM работает дольше.\n",
    "\n",
    "**5) RFFPipeline c логистической регрессией vs PCA и градиентный бустинг**\n",
    "\n",
    "Качество градиентного бустинга не сильно превышает качество RFFPipeline на тестовой выборке, но работает значительно дольше и при этом он имеет точность 1 на трейне, что говорит о переобучении.\n",
    "\n",
    "**6) RFFPipeline c SVM vs vs PCA и градиентный бустинг**\n",
    "\n",
    "Градиентный бустинг работает дольше, при этом прирост в качестве незначительный."
   ]
  },
  {
   "cell_type": "markdown",
   "metadata": {},
   "source": [
    "Вывод: Идея со случайными признаками оказывается достаточно применимой, за счет нее модель может уловить более сложные зависимости в данных, не сильно увеличивая время обучения"
   ]
  },
  {
   "cell_type": "markdown",
   "metadata": {
    "id": "e6umjhWuK-hV"
   },
   "source": [
    "__Задание 3. (2 балла)__\n",
    "\n",
    "Проведите эксперименты **(1.5 балла)** над моделью **RFFPipeline**, после которых вы сможете ответить на следующие вопросы **(?)** **(0.5 балла)**:\n",
    "1. Помогает ли предварительное понижение размерности с помощью PCA? \n",
    "2. Как зависит итоговое качество от n_features? Выходит ли оно на плато при росте n_features?\n",
    "3. Важно ли, какую модель обучать — логистическую регрессию или SVM?\n",
    "\n",
    "**Замечания (!):**\n",
    "* В п.2 необходимо перебрать хотя бы 30 значений признаков по разумной сетке, затрагивающей значения в 50 и в 3000 признаков (или максимальное из того, что позволяет ваш компьтер за разумное время). **За меньшее число признаков и меньшее максимальное значение будут сниматься баллы**\n",
    "* В п.2 используйте логистическую регрессию\n",
    "* В п.2 отобразите качества (accuracy_score) на обучении и на тесте в виде графиков на одном полотне. **За отсутствие будут сниматься баллы**\n",
    "* Везде делайте замеры по времени и результаты включайте в выводы. **За отсутствие будут сниматься баллы**"
   ]
  },
  {
   "cell_type": "code",
   "execution_count": 16,
   "metadata": {
    "id": "c2QIHIMbK-hW"
   },
   "outputs": [
    {
     "data": {
      "text/html": [
       "<div>\n",
       "<style scoped>\n",
       "    .dataframe tbody tr th:only-of-type {\n",
       "        vertical-align: middle;\n",
       "    }\n",
       "\n",
       "    .dataframe tbody tr th {\n",
       "        vertical-align: top;\n",
       "    }\n",
       "\n",
       "    .dataframe thead th {\n",
       "        text-align: right;\n",
       "    }\n",
       "</style>\n",
       "<table border=\"1\" class=\"dataframe\">\n",
       "  <thead>\n",
       "    <tr style=\"text-align: right;\">\n",
       "      <th></th>\n",
       "      <th>Train accuracy</th>\n",
       "      <th>Test accuracy</th>\n",
       "      <th>Time</th>\n",
       "    </tr>\n",
       "  </thead>\n",
       "  <tbody>\n",
       "    <tr>\n",
       "      <th>RFF (logreg)</th>\n",
       "      <td>NaN</td>\n",
       "      <td>NaN</td>\n",
       "      <td>NaN</td>\n",
       "    </tr>\n",
       "    <tr>\n",
       "      <th>RFF (svm)</th>\n",
       "      <td>NaN</td>\n",
       "      <td>NaN</td>\n",
       "      <td>NaN</td>\n",
       "    </tr>\n",
       "    <tr>\n",
       "      <th>RFF (PCA + logreg)</th>\n",
       "      <td>NaN</td>\n",
       "      <td>NaN</td>\n",
       "      <td>NaN</td>\n",
       "    </tr>\n",
       "    <tr>\n",
       "      <th>RFF (PCA + svm)</th>\n",
       "      <td>NaN</td>\n",
       "      <td>NaN</td>\n",
       "      <td>NaN</td>\n",
       "    </tr>\n",
       "  </tbody>\n",
       "</table>\n",
       "</div>"
      ],
      "text/plain": [
       "                   Train accuracy Test accuracy Time\n",
       "RFF (logreg)                  NaN           NaN  NaN\n",
       "RFF (svm)                     NaN           NaN  NaN\n",
       "RFF (PCA + logreg)            NaN           NaN  NaN\n",
       "RFF (PCA + svm)               NaN           NaN  NaN"
      ]
     },
     "execution_count": 16,
     "metadata": {},
     "output_type": "execute_result"
    }
   ],
   "source": [
    "import pandas as pd\n",
    "import time\n",
    "\n",
    "df2 = pd.DataFrame(columns=['Train accuracy', 'Test accuracy', 'Time'], index=['RFF (logreg)', 'RFF (svm)', 'RFF (PCA + logreg)', 'RFF (PCA + svm)'])\n",
    "df2"
   ]
  },
  {
   "cell_type": "code",
   "execution_count": 17,
   "metadata": {},
   "outputs": [
    {
     "name": "stdout",
     "output_type": "stream",
     "text": [
      "RFF (logreg)\n",
      "--- 18.3214 seconds ---\n",
      "Train:  0.9344\n",
      "Test:  0.8338\n"
     ]
    }
   ],
   "source": [
    "print('RFF (logreg)')\n",
    "\n",
    "pipeline = RFFPipeline(use_PCA=False, classifier='logreg')\n",
    "start_time = time.time()\n",
    "pipeline.fit(x_train.astype(float), y_train)\n",
    "all_time = time.time() - start_time\n",
    "test_acc = (pipeline.predict(x_test.astype(float)) == y_test).mean()\n",
    "train_acc = (pipeline.predict(x_train.astype(float)) == y_train).mean()\n",
    "\n",
    "df2['Train accuracy']['RFF (logreg)'] = train_acc\n",
    "df2['Test accuracy']['RFF (logreg)'] = test_acc\n",
    "df2['Time']['RFF (logreg)'] = all_time\n",
    "\n",
    "print(\"--- %.4f seconds ---\" % all_time)\n",
    "print('Train: ', train_acc )\n",
    "print('Test: ', test_acc)"
   ]
  },
  {
   "cell_type": "code",
   "execution_count": 18,
   "metadata": {},
   "outputs": [
    {
     "name": "stdout",
     "output_type": "stream",
     "text": [
      "RFF (svm)\n",
      "--- 24.5513 seconds ---\n",
      "Train:  0.9978\n",
      "Test:  0.8245\n"
     ]
    }
   ],
   "source": [
    "print('RFF (svm)')\n",
    "\n",
    "pipeline = RFFPipeline(use_PCA=False, classifier='svm')\n",
    "start_time = time.time()\n",
    "pipeline.fit(x_train.astype(float), y_train)\n",
    "all_time = time.time() - start_time\n",
    "test_acc = (pipeline.predict(x_test.astype(float)) == y_test).mean()\n",
    "train_acc = (pipeline.predict(x_train.astype(float)) == y_train).mean()\n",
    "\n",
    "df2['Train accuracy']['RFF (svm)'] = train_acc\n",
    "df2['Test accuracy']['RFF (svm)'] = test_acc\n",
    "df2['Time']['RFF (svm)'] = all_time\n",
    "\n",
    "print(\"--- %.4f seconds ---\" % all_time)\n",
    "print('Train: ', train_acc )\n",
    "print('Test: ', test_acc)"
   ]
  },
  {
   "cell_type": "code",
   "execution_count": 19,
   "metadata": {},
   "outputs": [
    {
     "name": "stdout",
     "output_type": "stream",
     "text": [
      "RFF (PCA + logreg)\n",
      "--- 7.0270 seconds ---\n",
      "Train:  0.8866\n",
      "Test:  0.8399\n"
     ]
    }
   ],
   "source": [
    "print('RFF (PCA + logreg)')\n",
    "\n",
    "pipeline = RFFPipeline(use_PCA=True, classifier='logreg')\n",
    "start_time = time.time()\n",
    "pipeline.fit(x_train.astype(float), y_train)\n",
    "all_time = time.time() - start_time\n",
    "test_acc = (pipeline.predict(x_test.astype(float)) == y_test).mean()\n",
    "train_acc = (pipeline.predict(x_train.astype(float)) == y_train).mean()\n",
    "\n",
    "df2['Train accuracy']['RFF (PCA + logreg)'] = train_acc\n",
    "df2['Test accuracy']['RFF (PCA + logreg)'] = test_acc\n",
    "df2['Time']['RFF (PCA + logreg)'] = all_time\n",
    "\n",
    "print(\"--- %.4f seconds ---\" % all_time)\n",
    "print('Train: ', train_acc )\n",
    "print('Test: ', test_acc)"
   ]
  },
  {
   "cell_type": "code",
   "execution_count": 20,
   "metadata": {},
   "outputs": [
    {
     "name": "stdout",
     "output_type": "stream",
     "text": [
      "RFF (PCA + svm)\n",
      "--- 17.0993 seconds ---\n",
      "Train:  0.9528\n",
      "Test:  0.8422\n"
     ]
    }
   ],
   "source": [
    "print('RFF (PCA + svm)')\n",
    "\n",
    "pipeline = RFFPipeline(use_PCA=True, classifier='svm')\n",
    "start_time = time.time()\n",
    "pipeline.fit(x_train.astype(float), y_train)\n",
    "all_time = time.time() - start_time\n",
    "test_acc = (pipeline.predict(x_test.astype(float)) == y_test).mean()\n",
    "train_acc = (pipeline.predict(x_train.astype(float)) == y_train).mean()\n",
    "\n",
    "df2['Train accuracy']['RFF (PCA + svm)'] = train_acc\n",
    "df2['Test accuracy']['RFF (PCA + svm)'] = test_acc\n",
    "df2['Time']['RFF (PCA + svm)'] = all_time\n",
    "\n",
    "print(\"--- %.4f seconds ---\" % all_time)\n",
    "print('Train: ', train_acc )\n",
    "print('Test: ', test_acc)"
   ]
  },
  {
   "cell_type": "code",
   "execution_count": 21,
   "metadata": {},
   "outputs": [
    {
     "data": {
      "text/html": [
       "<div>\n",
       "<style scoped>\n",
       "    .dataframe tbody tr th:only-of-type {\n",
       "        vertical-align: middle;\n",
       "    }\n",
       "\n",
       "    .dataframe tbody tr th {\n",
       "        vertical-align: top;\n",
       "    }\n",
       "\n",
       "    .dataframe thead th {\n",
       "        text-align: right;\n",
       "    }\n",
       "</style>\n",
       "<table border=\"1\" class=\"dataframe\">\n",
       "  <thead>\n",
       "    <tr style=\"text-align: right;\">\n",
       "      <th></th>\n",
       "      <th>Train accuracy</th>\n",
       "      <th>Test accuracy</th>\n",
       "      <th>Time</th>\n",
       "    </tr>\n",
       "  </thead>\n",
       "  <tbody>\n",
       "    <tr>\n",
       "      <th>RFF (logreg)</th>\n",
       "      <td>0.9344</td>\n",
       "      <td>0.8338</td>\n",
       "      <td>18.321367</td>\n",
       "    </tr>\n",
       "    <tr>\n",
       "      <th>RFF (svm)</th>\n",
       "      <td>0.9978</td>\n",
       "      <td>0.8245</td>\n",
       "      <td>24.551286</td>\n",
       "    </tr>\n",
       "    <tr>\n",
       "      <th>RFF (PCA + logreg)</th>\n",
       "      <td>0.8866</td>\n",
       "      <td>0.8399</td>\n",
       "      <td>7.026983</td>\n",
       "    </tr>\n",
       "    <tr>\n",
       "      <th>RFF (PCA + svm)</th>\n",
       "      <td>0.9528</td>\n",
       "      <td>0.8422</td>\n",
       "      <td>17.099264</td>\n",
       "    </tr>\n",
       "  </tbody>\n",
       "</table>\n",
       "</div>"
      ],
      "text/plain": [
       "                   Train accuracy Test accuracy       Time\n",
       "RFF (logreg)               0.9344        0.8338  18.321367\n",
       "RFF (svm)                  0.9978        0.8245  24.551286\n",
       "RFF (PCA + logreg)         0.8866        0.8399   7.026983\n",
       "RFF (PCA + svm)            0.9528        0.8422  17.099264"
      ]
     },
     "execution_count": 21,
     "metadata": {},
     "output_type": "execute_result"
    }
   ],
   "source": [
    "df2"
   ]
  },
  {
   "cell_type": "code",
   "execution_count": 22,
   "metadata": {},
   "outputs": [],
   "source": [
    "train_acc = []\n",
    "test_acc = []\n",
    "time_arr = []\n",
    "\n",
    "for n_features in np.geomspace(50, 3000, 30, dtype='int'):\n",
    "    pipeline = RFFPipeline(n_features=n_features)\n",
    "    start_time = time.time()\n",
    "    pipeline.fit(x_train.astype(float), y_train)\n",
    "    time_arr.append(time.time() - start_time)\n",
    "    test_acc.append((pipeline.predict(x_test.astype(float)) == y_test).mean())\n",
    "    train_acc.append((pipeline.predict(x_train.astype(float)) == y_train).mean())"
   ]
  },
  {
   "cell_type": "code",
   "execution_count": 23,
   "metadata": {},
   "outputs": [
    {
     "data": {
      "image/png": "[encoded data removed]",
      "text/plain": [
       "<Figure size 1500x500 with 2 Axes>"
      ]
     },
     "metadata": {},
     "output_type": "display_data"
    }
   ],
   "source": [
    "import matplotlib.pyplot as plt\n",
    "\n",
    "fig = plt.figure(figsize=(15,5))\n",
    "\n",
    "plt.subplot(1, 2, 1)\n",
    "plt.title('Зависимость итогового качества от параметра n_features')\n",
    "plt.plot(np.geomspace(50, 3000, 30, dtype='int'), train_acc, label='Train')\n",
    "plt.plot(np.geomspace(50, 3000, 30, dtype='int'), test_acc, label='Test')\n",
    "plt.xlabel('n_features')\n",
    "plt.ylabel('accuracy score')\n",
    "plt.legend()\n",
    "\n",
    "plt.subplot(1, 2, 2)\n",
    "plt.title('Зависимость времени обучения от параметра n_features')\n",
    "plt.plot(np.geomspace(50, 3000, 30, dtype='int'), time_arr)\n",
    "plt.xlabel('n_features')\n",
    "plt.ylabel('time')\n",
    "\n",
    "plt.tight_layout()\n",
    "plt.show()"
   ]
  },
  {
   "cell_type": "markdown",
   "metadata": {},
   "source": [
    "1. Из приведенного эксперимета видно, что понижение размерности с помощью PCA положительно влияет, как на качество, так и на время работы алгоритма\n",
    "2. Итоговое качество возрастает при росте n_features и выходит на плато приблизительно при значении 1000\n",
    "3. SVM позволяет добиться точности выше, но сильно проигрывает логистической регресссии по времени. Выбор конкретной модели должен основовыться на конкретной задаче, но в общем случае можно использовать любую модель."
   ]
  },
  {
   "cell_type": "markdown",
   "metadata": {
    "id": "CJqXVuasK-hW"
   },
   "source": [
    "### Бонус"
   ]
  },
  {
   "cell_type": "markdown",
   "metadata": {
    "id": "QVDWHCdrK-hX"
   },
   "source": [
    "__Задание 4. (Максимум 2 балла)__\n",
    "\n",
    "Многие алгоритмы машинного обучения работают лучше, если признаки данных некоррелированы. Оказывается, что для RFF существует модификация, позволяющая получать ортогональные случайные признаки (Orthogonal Random Features, ORF). Об этом методе можно прочитать в [статье](https://arxiv.org/abs/1610.09072#:~:text=We%20call%20this%20technique%20Orthogonal,to%20speed%20up%20the%20computation). Реализуйте класс для вычисления ORF по аналогии с основным заданием. Обратите внимание, что ваш класс должен уметь работать со случаем n_features > new_dim (в статье есть замечание на этот счет). Проведите эксперименты, сравнивающие RFF и ORF, **(?)** сделайте выводы.\n",
    "\n",
    "**Замечание:**\n",
    "* Сравнения делайте как по времени, так и по качеству.\n",
    "* Можно сравнивать качество двух методов на разном числе признаков, в таком случае очень полезным будет график зависимости качества от числа признаков"
   ]
  },
  {
   "cell_type": "code",
   "execution_count": null,
   "metadata": {
    "id": "HSxvGI9iK-hX"
   },
   "outputs": [],
   "source": [
    "# Your code here: (￣▽￣)/♫•*¨*•.¸¸♪"
   ]
  },
  {
   "cell_type": "markdown",
   "metadata": {
    "id": "4pc7-1jmK-hY"
   },
   "source": [
    "__Задание 5. (Максимум 2 балла)__\n",
    "\n",
    "Поэкспериментируйте с функциями для вычисления новых случайных признаков. Не обязательно использовать косинус от скалярного произведения — можно брать знак от него, хэш и т.д. Придумайте побольше вариантов для генерации признаков и проверьте, не получается ли с их помощью добиваться более высокого качества. Также можете попробовать другой классификатор поверх случайных признаков, **(?)** сравните результаты."
   ]
  },
  {
   "cell_type": "markdown",
   "metadata": {},
   "source": [
    "**Замечание:**\n",
    "* Сравнения делайте как по времени, так и по качеству.\n",
    "* В качестве основной модели можете брать как RFF, так и ORF. А можете и то и другое :)"
   ]
  },
  {
   "cell_type": "code",
   "execution_count": null,
   "metadata": {
    "id": "dWj-O2vjK-hY"
   },
   "outputs": [],
   "source": [
    "# Your code here: (￣▽￣)/♫•*¨*•.¸¸♪"
   ]
  }
 ],
 "metadata": {
  "colab": {
   "collapsed_sections": [],
   "name": "homework-practice-08-random-features.ipynb",
   "provenance": []
  },
  "kernelspec": {
   "display_name": "Python 3 (ipykernel)",
   "language": "python",
   "name": "python3"
  },
  "language_info": {
   "codemirror_mode": {
    "name": "ipython",
    "version": 3
   },
   "file_extension": ".py",
   "mimetype": "text/x-python",
   "name": "python",
   "nbconvert_exporter": "python",
   "pygments_lexer": "ipython3",
   "version": "3.10.8"
  }
 },
 "nbformat": 4,
 "nbformat_minor": 1
}
